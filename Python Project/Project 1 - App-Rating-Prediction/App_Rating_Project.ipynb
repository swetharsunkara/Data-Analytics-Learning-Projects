{
 "cells": [
  {
   "cell_type": "markdown",
   "id": "fc9c9cd3",
   "metadata": {},
   "source": [
    "### 1. Load the data file using pandas. ###"
   ]
  },
  {
   "cell_type": "code",
   "execution_count": 1,
   "id": "2a5a1400",
   "metadata": {},
   "outputs": [],
   "source": [
    "import pandas as pd"
   ]
  },
  {
   "cell_type": "code",
   "execution_count": 2,
   "id": "7dcb9d1d",
   "metadata": {},
   "outputs": [],
   "source": [
    "import numpy as np"
   ]
  },
  {
   "cell_type": "code",
   "execution_count": 3,
   "id": "c823659d",
   "metadata": {},
   "outputs": [],
   "source": [
    "data = pd.read_csv('googleplaystore.csv')"
   ]
  },
  {
   "cell_type": "code",
   "execution_count": 4,
   "id": "fe14927e",
   "metadata": {
    "scrolled": false
   },
   "outputs": [
    {
     "data": {
      "text/html": [
       "<div>\n",
       "<style scoped>\n",
       "    .dataframe tbody tr th:only-of-type {\n",
       "        vertical-align: middle;\n",
       "    }\n",
       "\n",
       "    .dataframe tbody tr th {\n",
       "        vertical-align: top;\n",
       "    }\n",
       "\n",
       "    .dataframe thead th {\n",
       "        text-align: right;\n",
       "    }\n",
       "</style>\n",
       "<table border=\"1\" class=\"dataframe\">\n",
       "  <thead>\n",
       "    <tr style=\"text-align: right;\">\n",
       "      <th></th>\n",
       "      <th>App</th>\n",
       "      <th>Category</th>\n",
       "      <th>Rating</th>\n",
       "      <th>Reviews</th>\n",
       "      <th>Size</th>\n",
       "      <th>Installs</th>\n",
       "      <th>Type</th>\n",
       "      <th>Price</th>\n",
       "      <th>Content Rating</th>\n",
       "      <th>Genres</th>\n",
       "      <th>Last Updated</th>\n",
       "      <th>Current Ver</th>\n",
       "      <th>Android Ver</th>\n",
       "    </tr>\n",
       "  </thead>\n",
       "  <tbody>\n",
       "    <tr>\n",
       "      <th>0</th>\n",
       "      <td>Photo Editor &amp; Candy Camera &amp; Grid &amp; ScrapBook</td>\n",
       "      <td>ART_AND_DESIGN</td>\n",
       "      <td>4.1</td>\n",
       "      <td>159</td>\n",
       "      <td>19M</td>\n",
       "      <td>10,000+</td>\n",
       "      <td>Free</td>\n",
       "      <td>0</td>\n",
       "      <td>Everyone</td>\n",
       "      <td>Art &amp; Design</td>\n",
       "      <td>January 7, 2018</td>\n",
       "      <td>1.0.0</td>\n",
       "      <td>4.0.3 and up</td>\n",
       "    </tr>\n",
       "    <tr>\n",
       "      <th>1</th>\n",
       "      <td>Coloring book moana</td>\n",
       "      <td>ART_AND_DESIGN</td>\n",
       "      <td>3.9</td>\n",
       "      <td>967</td>\n",
       "      <td>14M</td>\n",
       "      <td>500,000+</td>\n",
       "      <td>Free</td>\n",
       "      <td>0</td>\n",
       "      <td>Everyone</td>\n",
       "      <td>Art &amp; Design;Pretend Play</td>\n",
       "      <td>January 15, 2018</td>\n",
       "      <td>2.0.0</td>\n",
       "      <td>4.0.3 and up</td>\n",
       "    </tr>\n",
       "    <tr>\n",
       "      <th>2</th>\n",
       "      <td>U Launcher Lite – FREE Live Cool Themes, Hide ...</td>\n",
       "      <td>ART_AND_DESIGN</td>\n",
       "      <td>4.7</td>\n",
       "      <td>87510</td>\n",
       "      <td>8.7M</td>\n",
       "      <td>5,000,000+</td>\n",
       "      <td>Free</td>\n",
       "      <td>0</td>\n",
       "      <td>Everyone</td>\n",
       "      <td>Art &amp; Design</td>\n",
       "      <td>August 1, 2018</td>\n",
       "      <td>1.2.4</td>\n",
       "      <td>4.0.3 and up</td>\n",
       "    </tr>\n",
       "    <tr>\n",
       "      <th>3</th>\n",
       "      <td>Sketch - Draw &amp; Paint</td>\n",
       "      <td>ART_AND_DESIGN</td>\n",
       "      <td>4.5</td>\n",
       "      <td>215644</td>\n",
       "      <td>25M</td>\n",
       "      <td>50,000,000+</td>\n",
       "      <td>Free</td>\n",
       "      <td>0</td>\n",
       "      <td>Teen</td>\n",
       "      <td>Art &amp; Design</td>\n",
       "      <td>June 8, 2018</td>\n",
       "      <td>Varies with device</td>\n",
       "      <td>4.2 and up</td>\n",
       "    </tr>\n",
       "    <tr>\n",
       "      <th>4</th>\n",
       "      <td>Pixel Draw - Number Art Coloring Book</td>\n",
       "      <td>ART_AND_DESIGN</td>\n",
       "      <td>4.3</td>\n",
       "      <td>967</td>\n",
       "      <td>2.8M</td>\n",
       "      <td>100,000+</td>\n",
       "      <td>Free</td>\n",
       "      <td>0</td>\n",
       "      <td>Everyone</td>\n",
       "      <td>Art &amp; Design;Creativity</td>\n",
       "      <td>June 20, 2018</td>\n",
       "      <td>1.1</td>\n",
       "      <td>4.4 and up</td>\n",
       "    </tr>\n",
       "  </tbody>\n",
       "</table>\n",
       "</div>"
      ],
      "text/plain": [
       "                                                 App        Category  Rating  \\\n",
       "0     Photo Editor & Candy Camera & Grid & ScrapBook  ART_AND_DESIGN     4.1   \n",
       "1                                Coloring book moana  ART_AND_DESIGN     3.9   \n",
       "2  U Launcher Lite – FREE Live Cool Themes, Hide ...  ART_AND_DESIGN     4.7   \n",
       "3                              Sketch - Draw & Paint  ART_AND_DESIGN     4.5   \n",
       "4              Pixel Draw - Number Art Coloring Book  ART_AND_DESIGN     4.3   \n",
       "\n",
       "  Reviews  Size     Installs  Type Price Content Rating  \\\n",
       "0     159   19M      10,000+  Free     0       Everyone   \n",
       "1     967   14M     500,000+  Free     0       Everyone   \n",
       "2   87510  8.7M   5,000,000+  Free     0       Everyone   \n",
       "3  215644   25M  50,000,000+  Free     0           Teen   \n",
       "4     967  2.8M     100,000+  Free     0       Everyone   \n",
       "\n",
       "                      Genres      Last Updated         Current Ver  \\\n",
       "0               Art & Design   January 7, 2018               1.0.0   \n",
       "1  Art & Design;Pretend Play  January 15, 2018               2.0.0   \n",
       "2               Art & Design    August 1, 2018               1.2.4   \n",
       "3               Art & Design      June 8, 2018  Varies with device   \n",
       "4    Art & Design;Creativity     June 20, 2018                 1.1   \n",
       "\n",
       "    Android Ver  \n",
       "0  4.0.3 and up  \n",
       "1  4.0.3 and up  \n",
       "2  4.0.3 and up  \n",
       "3    4.2 and up  \n",
       "4    4.4 and up  "
      ]
     },
     "execution_count": 4,
     "metadata": {},
     "output_type": "execute_result"
    }
   ],
   "source": [
    "data.head()"
   ]
  },
  {
   "cell_type": "code",
   "execution_count": 5,
   "id": "18369287",
   "metadata": {
    "scrolled": true
   },
   "outputs": [
    {
     "name": "stdout",
     "output_type": "stream",
     "text": [
      "<class 'pandas.core.frame.DataFrame'>\n",
      "RangeIndex: 10841 entries, 0 to 10840\n",
      "Data columns (total 13 columns):\n",
      " #   Column          Non-Null Count  Dtype  \n",
      "---  ------          --------------  -----  \n",
      " 0   App             10841 non-null  object \n",
      " 1   Category        10841 non-null  object \n",
      " 2   Rating          9367 non-null   float64\n",
      " 3   Reviews         10841 non-null  object \n",
      " 4   Size            10841 non-null  object \n",
      " 5   Installs        10841 non-null  object \n",
      " 6   Type            10840 non-null  object \n",
      " 7   Price           10841 non-null  object \n",
      " 8   Content Rating  10840 non-null  object \n",
      " 9   Genres          10841 non-null  object \n",
      " 10  Last Updated    10841 non-null  object \n",
      " 11  Current Ver     10833 non-null  object \n",
      " 12  Android Ver     10838 non-null  object \n",
      "dtypes: float64(1), object(12)\n",
      "memory usage: 1.1+ MB\n"
     ]
    }
   ],
   "source": [
    "data.info()"
   ]
  },
  {
   "cell_type": "code",
   "execution_count": 6,
   "id": "d7ecd70a",
   "metadata": {},
   "outputs": [
    {
     "data": {
      "text/plain": [
       "(10841, 13)"
      ]
     },
     "execution_count": 6,
     "metadata": {},
     "output_type": "execute_result"
    }
   ],
   "source": [
    "data.shape"
   ]
  },
  {
   "cell_type": "markdown",
   "id": "ddfd2b6b",
   "metadata": {},
   "source": [
    "### 2.Check for null values in the data. Get the number of null values for each column.###"
   ]
  },
  {
   "cell_type": "code",
   "execution_count": 7,
   "id": "598c770e",
   "metadata": {},
   "outputs": [
    {
     "data": {
      "text/plain": [
       "App               False\n",
       "Category          False\n",
       "Rating             True\n",
       "Reviews           False\n",
       "Size              False\n",
       "Installs          False\n",
       "Type               True\n",
       "Price             False\n",
       "Content Rating     True\n",
       "Genres            False\n",
       "Last Updated      False\n",
       "Current Ver        True\n",
       "Android Ver        True\n",
       "dtype: bool"
      ]
     },
     "execution_count": 7,
     "metadata": {},
     "output_type": "execute_result"
    }
   ],
   "source": [
    "data.isnull().any()"
   ]
  },
  {
   "cell_type": "code",
   "execution_count": 8,
   "id": "6dd02a21",
   "metadata": {},
   "outputs": [
    {
     "data": {
      "text/plain": [
       "App                  0\n",
       "Category             0\n",
       "Rating            1474\n",
       "Reviews              0\n",
       "Size                 0\n",
       "Installs             0\n",
       "Type                 1\n",
       "Price                0\n",
       "Content Rating       1\n",
       "Genres               0\n",
       "Last Updated         0\n",
       "Current Ver          8\n",
       "Android Ver          3\n",
       "dtype: int64"
      ]
     },
     "execution_count": 8,
     "metadata": {},
     "output_type": "execute_result"
    }
   ],
   "source": [
    "data.isnull().sum()"
   ]
  },
  {
   "cell_type": "markdown",
   "id": "ab1226a4",
   "metadata": {},
   "source": [
    "### 3. Drop records with nulls in any of the columns. ###"
   ]
  },
  {
   "cell_type": "code",
   "execution_count": 9,
   "id": "8ac5d0fd",
   "metadata": {},
   "outputs": [],
   "source": [
    "data = data.dropna()"
   ]
  },
  {
   "cell_type": "code",
   "execution_count": 10,
   "id": "c08659c4",
   "metadata": {},
   "outputs": [
    {
     "data": {
      "text/plain": [
       "App               False\n",
       "Category          False\n",
       "Rating            False\n",
       "Reviews           False\n",
       "Size              False\n",
       "Installs          False\n",
       "Type              False\n",
       "Price             False\n",
       "Content Rating    False\n",
       "Genres            False\n",
       "Last Updated      False\n",
       "Current Ver       False\n",
       "Android Ver       False\n",
       "dtype: bool"
      ]
     },
     "execution_count": 10,
     "metadata": {},
     "output_type": "execute_result"
    }
   ],
   "source": [
    "data.isnull().any()"
   ]
  },
  {
   "cell_type": "code",
   "execution_count": 11,
   "id": "9f1c7196",
   "metadata": {},
   "outputs": [
    {
     "data": {
      "text/plain": [
       "(9360, 13)"
      ]
     },
     "execution_count": 11,
     "metadata": {},
     "output_type": "execute_result"
    }
   ],
   "source": [
    "data.shape"
   ]
  },
  {
   "cell_type": "markdown",
   "id": "4b8dbc00",
   "metadata": {},
   "source": [
    "### 4(1) Variables seem to have incorrect type and inconsistent formatting. You need to fix them: \n",
    "\n",
    "### Size column has sizes in Kb as well as Mb. To analyze, you’ll need to convert these to numeric. ###\n"
   ]
  },
  {
   "cell_type": "code",
   "execution_count": 12,
   "id": "31e36500",
   "metadata": {},
   "outputs": [],
   "source": [
    "data[\"Size\"] = [ float(i.split('M')[0]) if 'M' in i else float(0) for i in data[\"Size\"]  ]"
   ]
  },
  {
   "cell_type": "code",
   "execution_count": 13,
   "id": "7a657c4e",
   "metadata": {
    "scrolled": true
   },
   "outputs": [
    {
     "data": {
      "text/html": [
       "<div>\n",
       "<style scoped>\n",
       "    .dataframe tbody tr th:only-of-type {\n",
       "        vertical-align: middle;\n",
       "    }\n",
       "\n",
       "    .dataframe tbody tr th {\n",
       "        vertical-align: top;\n",
       "    }\n",
       "\n",
       "    .dataframe thead th {\n",
       "        text-align: right;\n",
       "    }\n",
       "</style>\n",
       "<table border=\"1\" class=\"dataframe\">\n",
       "  <thead>\n",
       "    <tr style=\"text-align: right;\">\n",
       "      <th></th>\n",
       "      <th>App</th>\n",
       "      <th>Category</th>\n",
       "      <th>Rating</th>\n",
       "      <th>Reviews</th>\n",
       "      <th>Size</th>\n",
       "      <th>Installs</th>\n",
       "      <th>Type</th>\n",
       "      <th>Price</th>\n",
       "      <th>Content Rating</th>\n",
       "      <th>Genres</th>\n",
       "      <th>Last Updated</th>\n",
       "      <th>Current Ver</th>\n",
       "      <th>Android Ver</th>\n",
       "    </tr>\n",
       "  </thead>\n",
       "  <tbody>\n",
       "    <tr>\n",
       "      <th>0</th>\n",
       "      <td>Photo Editor &amp; Candy Camera &amp; Grid &amp; ScrapBook</td>\n",
       "      <td>ART_AND_DESIGN</td>\n",
       "      <td>4.1</td>\n",
       "      <td>159</td>\n",
       "      <td>19.0</td>\n",
       "      <td>10,000+</td>\n",
       "      <td>Free</td>\n",
       "      <td>0</td>\n",
       "      <td>Everyone</td>\n",
       "      <td>Art &amp; Design</td>\n",
       "      <td>January 7, 2018</td>\n",
       "      <td>1.0.0</td>\n",
       "      <td>4.0.3 and up</td>\n",
       "    </tr>\n",
       "    <tr>\n",
       "      <th>1</th>\n",
       "      <td>Coloring book moana</td>\n",
       "      <td>ART_AND_DESIGN</td>\n",
       "      <td>3.9</td>\n",
       "      <td>967</td>\n",
       "      <td>14.0</td>\n",
       "      <td>500,000+</td>\n",
       "      <td>Free</td>\n",
       "      <td>0</td>\n",
       "      <td>Everyone</td>\n",
       "      <td>Art &amp; Design;Pretend Play</td>\n",
       "      <td>January 15, 2018</td>\n",
       "      <td>2.0.0</td>\n",
       "      <td>4.0.3 and up</td>\n",
       "    </tr>\n",
       "    <tr>\n",
       "      <th>2</th>\n",
       "      <td>U Launcher Lite – FREE Live Cool Themes, Hide ...</td>\n",
       "      <td>ART_AND_DESIGN</td>\n",
       "      <td>4.7</td>\n",
       "      <td>87510</td>\n",
       "      <td>8.7</td>\n",
       "      <td>5,000,000+</td>\n",
       "      <td>Free</td>\n",
       "      <td>0</td>\n",
       "      <td>Everyone</td>\n",
       "      <td>Art &amp; Design</td>\n",
       "      <td>August 1, 2018</td>\n",
       "      <td>1.2.4</td>\n",
       "      <td>4.0.3 and up</td>\n",
       "    </tr>\n",
       "    <tr>\n",
       "      <th>3</th>\n",
       "      <td>Sketch - Draw &amp; Paint</td>\n",
       "      <td>ART_AND_DESIGN</td>\n",
       "      <td>4.5</td>\n",
       "      <td>215644</td>\n",
       "      <td>25.0</td>\n",
       "      <td>50,000,000+</td>\n",
       "      <td>Free</td>\n",
       "      <td>0</td>\n",
       "      <td>Teen</td>\n",
       "      <td>Art &amp; Design</td>\n",
       "      <td>June 8, 2018</td>\n",
       "      <td>Varies with device</td>\n",
       "      <td>4.2 and up</td>\n",
       "    </tr>\n",
       "    <tr>\n",
       "      <th>4</th>\n",
       "      <td>Pixel Draw - Number Art Coloring Book</td>\n",
       "      <td>ART_AND_DESIGN</td>\n",
       "      <td>4.3</td>\n",
       "      <td>967</td>\n",
       "      <td>2.8</td>\n",
       "      <td>100,000+</td>\n",
       "      <td>Free</td>\n",
       "      <td>0</td>\n",
       "      <td>Everyone</td>\n",
       "      <td>Art &amp; Design;Creativity</td>\n",
       "      <td>June 20, 2018</td>\n",
       "      <td>1.1</td>\n",
       "      <td>4.4 and up</td>\n",
       "    </tr>\n",
       "  </tbody>\n",
       "</table>\n",
       "</div>"
      ],
      "text/plain": [
       "                                                 App        Category  Rating  \\\n",
       "0     Photo Editor & Candy Camera & Grid & ScrapBook  ART_AND_DESIGN     4.1   \n",
       "1                                Coloring book moana  ART_AND_DESIGN     3.9   \n",
       "2  U Launcher Lite – FREE Live Cool Themes, Hide ...  ART_AND_DESIGN     4.7   \n",
       "3                              Sketch - Draw & Paint  ART_AND_DESIGN     4.5   \n",
       "4              Pixel Draw - Number Art Coloring Book  ART_AND_DESIGN     4.3   \n",
       "\n",
       "  Reviews  Size     Installs  Type Price Content Rating  \\\n",
       "0     159  19.0      10,000+  Free     0       Everyone   \n",
       "1     967  14.0     500,000+  Free     0       Everyone   \n",
       "2   87510   8.7   5,000,000+  Free     0       Everyone   \n",
       "3  215644  25.0  50,000,000+  Free     0           Teen   \n",
       "4     967   2.8     100,000+  Free     0       Everyone   \n",
       "\n",
       "                      Genres      Last Updated         Current Ver  \\\n",
       "0               Art & Design   January 7, 2018               1.0.0   \n",
       "1  Art & Design;Pretend Play  January 15, 2018               2.0.0   \n",
       "2               Art & Design    August 1, 2018               1.2.4   \n",
       "3               Art & Design      June 8, 2018  Varies with device   \n",
       "4    Art & Design;Creativity     June 20, 2018                 1.1   \n",
       "\n",
       "    Android Ver  \n",
       "0  4.0.3 and up  \n",
       "1  4.0.3 and up  \n",
       "2  4.0.3 and up  \n",
       "3    4.2 and up  \n",
       "4    4.4 and up  "
      ]
     },
     "execution_count": 13,
     "metadata": {},
     "output_type": "execute_result"
    }
   ],
   "source": [
    "data.head()"
   ]
  },
  {
   "cell_type": "markdown",
   "id": "16cd1a35",
   "metadata": {},
   "source": [
    "### Extract the numeric value from the column ###"
   ]
  },
  {
   "cell_type": "code",
   "execution_count": 14,
   "id": "7a605daa",
   "metadata": {},
   "outputs": [],
   "source": [
    "data[\"Size\"] = 1000 * data[\"Size\"]"
   ]
  },
  {
   "cell_type": "code",
   "execution_count": 15,
   "id": "aa283ebd",
   "metadata": {},
   "outputs": [
    {
     "data": {
      "text/html": [
       "<div>\n",
       "<style scoped>\n",
       "    .dataframe tbody tr th:only-of-type {\n",
       "        vertical-align: middle;\n",
       "    }\n",
       "\n",
       "    .dataframe tbody tr th {\n",
       "        vertical-align: top;\n",
       "    }\n",
       "\n",
       "    .dataframe thead th {\n",
       "        text-align: right;\n",
       "    }\n",
       "</style>\n",
       "<table border=\"1\" class=\"dataframe\">\n",
       "  <thead>\n",
       "    <tr style=\"text-align: right;\">\n",
       "      <th></th>\n",
       "      <th>App</th>\n",
       "      <th>Category</th>\n",
       "      <th>Rating</th>\n",
       "      <th>Reviews</th>\n",
       "      <th>Size</th>\n",
       "      <th>Installs</th>\n",
       "      <th>Type</th>\n",
       "      <th>Price</th>\n",
       "      <th>Content Rating</th>\n",
       "      <th>Genres</th>\n",
       "      <th>Last Updated</th>\n",
       "      <th>Current Ver</th>\n",
       "      <th>Android Ver</th>\n",
       "    </tr>\n",
       "  </thead>\n",
       "  <tbody>\n",
       "    <tr>\n",
       "      <th>0</th>\n",
       "      <td>Photo Editor &amp; Candy Camera &amp; Grid &amp; ScrapBook</td>\n",
       "      <td>ART_AND_DESIGN</td>\n",
       "      <td>4.1</td>\n",
       "      <td>159</td>\n",
       "      <td>19000.0</td>\n",
       "      <td>10,000+</td>\n",
       "      <td>Free</td>\n",
       "      <td>0</td>\n",
       "      <td>Everyone</td>\n",
       "      <td>Art &amp; Design</td>\n",
       "      <td>January 7, 2018</td>\n",
       "      <td>1.0.0</td>\n",
       "      <td>4.0.3 and up</td>\n",
       "    </tr>\n",
       "    <tr>\n",
       "      <th>1</th>\n",
       "      <td>Coloring book moana</td>\n",
       "      <td>ART_AND_DESIGN</td>\n",
       "      <td>3.9</td>\n",
       "      <td>967</td>\n",
       "      <td>14000.0</td>\n",
       "      <td>500,000+</td>\n",
       "      <td>Free</td>\n",
       "      <td>0</td>\n",
       "      <td>Everyone</td>\n",
       "      <td>Art &amp; Design;Pretend Play</td>\n",
       "      <td>January 15, 2018</td>\n",
       "      <td>2.0.0</td>\n",
       "      <td>4.0.3 and up</td>\n",
       "    </tr>\n",
       "    <tr>\n",
       "      <th>2</th>\n",
       "      <td>U Launcher Lite – FREE Live Cool Themes, Hide ...</td>\n",
       "      <td>ART_AND_DESIGN</td>\n",
       "      <td>4.7</td>\n",
       "      <td>87510</td>\n",
       "      <td>8700.0</td>\n",
       "      <td>5,000,000+</td>\n",
       "      <td>Free</td>\n",
       "      <td>0</td>\n",
       "      <td>Everyone</td>\n",
       "      <td>Art &amp; Design</td>\n",
       "      <td>August 1, 2018</td>\n",
       "      <td>1.2.4</td>\n",
       "      <td>4.0.3 and up</td>\n",
       "    </tr>\n",
       "    <tr>\n",
       "      <th>3</th>\n",
       "      <td>Sketch - Draw &amp; Paint</td>\n",
       "      <td>ART_AND_DESIGN</td>\n",
       "      <td>4.5</td>\n",
       "      <td>215644</td>\n",
       "      <td>25000.0</td>\n",
       "      <td>50,000,000+</td>\n",
       "      <td>Free</td>\n",
       "      <td>0</td>\n",
       "      <td>Teen</td>\n",
       "      <td>Art &amp; Design</td>\n",
       "      <td>June 8, 2018</td>\n",
       "      <td>Varies with device</td>\n",
       "      <td>4.2 and up</td>\n",
       "    </tr>\n",
       "    <tr>\n",
       "      <th>4</th>\n",
       "      <td>Pixel Draw - Number Art Coloring Book</td>\n",
       "      <td>ART_AND_DESIGN</td>\n",
       "      <td>4.3</td>\n",
       "      <td>967</td>\n",
       "      <td>2800.0</td>\n",
       "      <td>100,000+</td>\n",
       "      <td>Free</td>\n",
       "      <td>0</td>\n",
       "      <td>Everyone</td>\n",
       "      <td>Art &amp; Design;Creativity</td>\n",
       "      <td>June 20, 2018</td>\n",
       "      <td>1.1</td>\n",
       "      <td>4.4 and up</td>\n",
       "    </tr>\n",
       "    <tr>\n",
       "      <th>...</th>\n",
       "      <td>...</td>\n",
       "      <td>...</td>\n",
       "      <td>...</td>\n",
       "      <td>...</td>\n",
       "      <td>...</td>\n",
       "      <td>...</td>\n",
       "      <td>...</td>\n",
       "      <td>...</td>\n",
       "      <td>...</td>\n",
       "      <td>...</td>\n",
       "      <td>...</td>\n",
       "      <td>...</td>\n",
       "      <td>...</td>\n",
       "    </tr>\n",
       "    <tr>\n",
       "      <th>10834</th>\n",
       "      <td>FR Calculator</td>\n",
       "      <td>FAMILY</td>\n",
       "      <td>4.0</td>\n",
       "      <td>7</td>\n",
       "      <td>2600.0</td>\n",
       "      <td>500+</td>\n",
       "      <td>Free</td>\n",
       "      <td>0</td>\n",
       "      <td>Everyone</td>\n",
       "      <td>Education</td>\n",
       "      <td>June 18, 2017</td>\n",
       "      <td>1.0.0</td>\n",
       "      <td>4.1 and up</td>\n",
       "    </tr>\n",
       "    <tr>\n",
       "      <th>10836</th>\n",
       "      <td>Sya9a Maroc - FR</td>\n",
       "      <td>FAMILY</td>\n",
       "      <td>4.5</td>\n",
       "      <td>38</td>\n",
       "      <td>53000.0</td>\n",
       "      <td>5,000+</td>\n",
       "      <td>Free</td>\n",
       "      <td>0</td>\n",
       "      <td>Everyone</td>\n",
       "      <td>Education</td>\n",
       "      <td>July 25, 2017</td>\n",
       "      <td>1.48</td>\n",
       "      <td>4.1 and up</td>\n",
       "    </tr>\n",
       "    <tr>\n",
       "      <th>10837</th>\n",
       "      <td>Fr. Mike Schmitz Audio Teachings</td>\n",
       "      <td>FAMILY</td>\n",
       "      <td>5.0</td>\n",
       "      <td>4</td>\n",
       "      <td>3600.0</td>\n",
       "      <td>100+</td>\n",
       "      <td>Free</td>\n",
       "      <td>0</td>\n",
       "      <td>Everyone</td>\n",
       "      <td>Education</td>\n",
       "      <td>July 6, 2018</td>\n",
       "      <td>1.0</td>\n",
       "      <td>4.1 and up</td>\n",
       "    </tr>\n",
       "    <tr>\n",
       "      <th>10839</th>\n",
       "      <td>The SCP Foundation DB fr nn5n</td>\n",
       "      <td>BOOKS_AND_REFERENCE</td>\n",
       "      <td>4.5</td>\n",
       "      <td>114</td>\n",
       "      <td>0.0</td>\n",
       "      <td>1,000+</td>\n",
       "      <td>Free</td>\n",
       "      <td>0</td>\n",
       "      <td>Mature 17+</td>\n",
       "      <td>Books &amp; Reference</td>\n",
       "      <td>January 19, 2015</td>\n",
       "      <td>Varies with device</td>\n",
       "      <td>Varies with device</td>\n",
       "    </tr>\n",
       "    <tr>\n",
       "      <th>10840</th>\n",
       "      <td>iHoroscope - 2018 Daily Horoscope &amp; Astrology</td>\n",
       "      <td>LIFESTYLE</td>\n",
       "      <td>4.5</td>\n",
       "      <td>398307</td>\n",
       "      <td>19000.0</td>\n",
       "      <td>10,000,000+</td>\n",
       "      <td>Free</td>\n",
       "      <td>0</td>\n",
       "      <td>Everyone</td>\n",
       "      <td>Lifestyle</td>\n",
       "      <td>July 25, 2018</td>\n",
       "      <td>Varies with device</td>\n",
       "      <td>Varies with device</td>\n",
       "    </tr>\n",
       "  </tbody>\n",
       "</table>\n",
       "<p>9360 rows × 13 columns</p>\n",
       "</div>"
      ],
      "text/plain": [
       "                                                     App             Category  \\\n",
       "0         Photo Editor & Candy Camera & Grid & ScrapBook       ART_AND_DESIGN   \n",
       "1                                    Coloring book moana       ART_AND_DESIGN   \n",
       "2      U Launcher Lite – FREE Live Cool Themes, Hide ...       ART_AND_DESIGN   \n",
       "3                                  Sketch - Draw & Paint       ART_AND_DESIGN   \n",
       "4                  Pixel Draw - Number Art Coloring Book       ART_AND_DESIGN   \n",
       "...                                                  ...                  ...   \n",
       "10834                                      FR Calculator               FAMILY   \n",
       "10836                                   Sya9a Maroc - FR               FAMILY   \n",
       "10837                   Fr. Mike Schmitz Audio Teachings               FAMILY   \n",
       "10839                      The SCP Foundation DB fr nn5n  BOOKS_AND_REFERENCE   \n",
       "10840      iHoroscope - 2018 Daily Horoscope & Astrology            LIFESTYLE   \n",
       "\n",
       "       Rating Reviews     Size     Installs  Type Price Content Rating  \\\n",
       "0         4.1     159  19000.0      10,000+  Free     0       Everyone   \n",
       "1         3.9     967  14000.0     500,000+  Free     0       Everyone   \n",
       "2         4.7   87510   8700.0   5,000,000+  Free     0       Everyone   \n",
       "3         4.5  215644  25000.0  50,000,000+  Free     0           Teen   \n",
       "4         4.3     967   2800.0     100,000+  Free     0       Everyone   \n",
       "...       ...     ...      ...          ...   ...   ...            ...   \n",
       "10834     4.0       7   2600.0         500+  Free     0       Everyone   \n",
       "10836     4.5      38  53000.0       5,000+  Free     0       Everyone   \n",
       "10837     5.0       4   3600.0         100+  Free     0       Everyone   \n",
       "10839     4.5     114      0.0       1,000+  Free     0     Mature 17+   \n",
       "10840     4.5  398307  19000.0  10,000,000+  Free     0       Everyone   \n",
       "\n",
       "                          Genres      Last Updated         Current Ver  \\\n",
       "0                   Art & Design   January 7, 2018               1.0.0   \n",
       "1      Art & Design;Pretend Play  January 15, 2018               2.0.0   \n",
       "2                   Art & Design    August 1, 2018               1.2.4   \n",
       "3                   Art & Design      June 8, 2018  Varies with device   \n",
       "4        Art & Design;Creativity     June 20, 2018                 1.1   \n",
       "...                          ...               ...                 ...   \n",
       "10834                  Education     June 18, 2017               1.0.0   \n",
       "10836                  Education     July 25, 2017                1.48   \n",
       "10837                  Education      July 6, 2018                 1.0   \n",
       "10839          Books & Reference  January 19, 2015  Varies with device   \n",
       "10840                  Lifestyle     July 25, 2018  Varies with device   \n",
       "\n",
       "              Android Ver  \n",
       "0            4.0.3 and up  \n",
       "1            4.0.3 and up  \n",
       "2            4.0.3 and up  \n",
       "3              4.2 and up  \n",
       "4              4.4 and up  \n",
       "...                   ...  \n",
       "10834          4.1 and up  \n",
       "10836          4.1 and up  \n",
       "10837          4.1 and up  \n",
       "10839  Varies with device  \n",
       "10840  Varies with device  \n",
       "\n",
       "[9360 rows x 13 columns]"
      ]
     },
     "execution_count": 15,
     "metadata": {},
     "output_type": "execute_result"
    }
   ],
   "source": [
    "data"
   ]
  },
  {
   "cell_type": "markdown",
   "id": "f5c019b7",
   "metadata": {},
   "source": [
    "### 4.(2)Reviews is a numeric field that is loaded as a string field. Convert it to numeric (int/float). ###"
   ]
  },
  {
   "cell_type": "code",
   "execution_count": 16,
   "id": "3aecf382",
   "metadata": {
    "scrolled": true
   },
   "outputs": [
    {
     "name": "stdout",
     "output_type": "stream",
     "text": [
      "<class 'pandas.core.frame.DataFrame'>\n",
      "Int64Index: 9360 entries, 0 to 10840\n",
      "Data columns (total 13 columns):\n",
      " #   Column          Non-Null Count  Dtype  \n",
      "---  ------          --------------  -----  \n",
      " 0   App             9360 non-null   object \n",
      " 1   Category        9360 non-null   object \n",
      " 2   Rating          9360 non-null   float64\n",
      " 3   Reviews         9360 non-null   object \n",
      " 4   Size            9360 non-null   float64\n",
      " 5   Installs        9360 non-null   object \n",
      " 6   Type            9360 non-null   object \n",
      " 7   Price           9360 non-null   object \n",
      " 8   Content Rating  9360 non-null   object \n",
      " 9   Genres          9360 non-null   object \n",
      " 10  Last Updated    9360 non-null   object \n",
      " 11  Current Ver     9360 non-null   object \n",
      " 12  Android Ver     9360 non-null   object \n",
      "dtypes: float64(2), object(11)\n",
      "memory usage: 1023.8+ KB\n"
     ]
    }
   ],
   "source": [
    "data.info()"
   ]
  },
  {
   "cell_type": "code",
   "execution_count": 17,
   "id": "2b440514",
   "metadata": {},
   "outputs": [],
   "source": [
    "data[\"Reviews\"] = data[\"Reviews\"].astype(float)"
   ]
  },
  {
   "cell_type": "code",
   "execution_count": 18,
   "id": "c6015486",
   "metadata": {},
   "outputs": [
    {
     "name": "stdout",
     "output_type": "stream",
     "text": [
      "<class 'pandas.core.frame.DataFrame'>\n",
      "Int64Index: 9360 entries, 0 to 10840\n",
      "Data columns (total 13 columns):\n",
      " #   Column          Non-Null Count  Dtype  \n",
      "---  ------          --------------  -----  \n",
      " 0   App             9360 non-null   object \n",
      " 1   Category        9360 non-null   object \n",
      " 2   Rating          9360 non-null   float64\n",
      " 3   Reviews         9360 non-null   float64\n",
      " 4   Size            9360 non-null   float64\n",
      " 5   Installs        9360 non-null   object \n",
      " 6   Type            9360 non-null   object \n",
      " 7   Price           9360 non-null   object \n",
      " 8   Content Rating  9360 non-null   object \n",
      " 9   Genres          9360 non-null   object \n",
      " 10  Last Updated    9360 non-null   object \n",
      " 11  Current Ver     9360 non-null   object \n",
      " 12  Android Ver     9360 non-null   object \n",
      "dtypes: float64(3), object(10)\n",
      "memory usage: 1023.8+ KB\n"
     ]
    }
   ],
   "source": [
    "data.info()"
   ]
  },
  {
   "cell_type": "markdown",
   "id": "2d9cce20",
   "metadata": {},
   "source": [
    "### 4.(3)Installs field is currently stored as string and has values like 1,000,000+. ###"
   ]
  },
  {
   "cell_type": "code",
   "execution_count": 19,
   "id": "9a62a6a5",
   "metadata": {},
   "outputs": [],
   "source": [
    "data[\"Installs\"] = [ float(i.replace('+','').replace(',', '')) if '+' in i or ',' in i else float(0) for i in data[\"Installs\"] ]"
   ]
  },
  {
   "cell_type": "code",
   "execution_count": 20,
   "id": "66695071",
   "metadata": {},
   "outputs": [
    {
     "data": {
      "text/html": [
       "<div>\n",
       "<style scoped>\n",
       "    .dataframe tbody tr th:only-of-type {\n",
       "        vertical-align: middle;\n",
       "    }\n",
       "\n",
       "    .dataframe tbody tr th {\n",
       "        vertical-align: top;\n",
       "    }\n",
       "\n",
       "    .dataframe thead th {\n",
       "        text-align: right;\n",
       "    }\n",
       "</style>\n",
       "<table border=\"1\" class=\"dataframe\">\n",
       "  <thead>\n",
       "    <tr style=\"text-align: right;\">\n",
       "      <th></th>\n",
       "      <th>App</th>\n",
       "      <th>Category</th>\n",
       "      <th>Rating</th>\n",
       "      <th>Reviews</th>\n",
       "      <th>Size</th>\n",
       "      <th>Installs</th>\n",
       "      <th>Type</th>\n",
       "      <th>Price</th>\n",
       "      <th>Content Rating</th>\n",
       "      <th>Genres</th>\n",
       "      <th>Last Updated</th>\n",
       "      <th>Current Ver</th>\n",
       "      <th>Android Ver</th>\n",
       "    </tr>\n",
       "  </thead>\n",
       "  <tbody>\n",
       "    <tr>\n",
       "      <th>0</th>\n",
       "      <td>Photo Editor &amp; Candy Camera &amp; Grid &amp; ScrapBook</td>\n",
       "      <td>ART_AND_DESIGN</td>\n",
       "      <td>4.1</td>\n",
       "      <td>159.0</td>\n",
       "      <td>19000.0</td>\n",
       "      <td>10000.0</td>\n",
       "      <td>Free</td>\n",
       "      <td>0</td>\n",
       "      <td>Everyone</td>\n",
       "      <td>Art &amp; Design</td>\n",
       "      <td>January 7, 2018</td>\n",
       "      <td>1.0.0</td>\n",
       "      <td>4.0.3 and up</td>\n",
       "    </tr>\n",
       "    <tr>\n",
       "      <th>1</th>\n",
       "      <td>Coloring book moana</td>\n",
       "      <td>ART_AND_DESIGN</td>\n",
       "      <td>3.9</td>\n",
       "      <td>967.0</td>\n",
       "      <td>14000.0</td>\n",
       "      <td>500000.0</td>\n",
       "      <td>Free</td>\n",
       "      <td>0</td>\n",
       "      <td>Everyone</td>\n",
       "      <td>Art &amp; Design;Pretend Play</td>\n",
       "      <td>January 15, 2018</td>\n",
       "      <td>2.0.0</td>\n",
       "      <td>4.0.3 and up</td>\n",
       "    </tr>\n",
       "    <tr>\n",
       "      <th>2</th>\n",
       "      <td>U Launcher Lite – FREE Live Cool Themes, Hide ...</td>\n",
       "      <td>ART_AND_DESIGN</td>\n",
       "      <td>4.7</td>\n",
       "      <td>87510.0</td>\n",
       "      <td>8700.0</td>\n",
       "      <td>5000000.0</td>\n",
       "      <td>Free</td>\n",
       "      <td>0</td>\n",
       "      <td>Everyone</td>\n",
       "      <td>Art &amp; Design</td>\n",
       "      <td>August 1, 2018</td>\n",
       "      <td>1.2.4</td>\n",
       "      <td>4.0.3 and up</td>\n",
       "    </tr>\n",
       "    <tr>\n",
       "      <th>3</th>\n",
       "      <td>Sketch - Draw &amp; Paint</td>\n",
       "      <td>ART_AND_DESIGN</td>\n",
       "      <td>4.5</td>\n",
       "      <td>215644.0</td>\n",
       "      <td>25000.0</td>\n",
       "      <td>50000000.0</td>\n",
       "      <td>Free</td>\n",
       "      <td>0</td>\n",
       "      <td>Teen</td>\n",
       "      <td>Art &amp; Design</td>\n",
       "      <td>June 8, 2018</td>\n",
       "      <td>Varies with device</td>\n",
       "      <td>4.2 and up</td>\n",
       "    </tr>\n",
       "    <tr>\n",
       "      <th>4</th>\n",
       "      <td>Pixel Draw - Number Art Coloring Book</td>\n",
       "      <td>ART_AND_DESIGN</td>\n",
       "      <td>4.3</td>\n",
       "      <td>967.0</td>\n",
       "      <td>2800.0</td>\n",
       "      <td>100000.0</td>\n",
       "      <td>Free</td>\n",
       "      <td>0</td>\n",
       "      <td>Everyone</td>\n",
       "      <td>Art &amp; Design;Creativity</td>\n",
       "      <td>June 20, 2018</td>\n",
       "      <td>1.1</td>\n",
       "      <td>4.4 and up</td>\n",
       "    </tr>\n",
       "  </tbody>\n",
       "</table>\n",
       "</div>"
      ],
      "text/plain": [
       "                                                 App        Category  Rating  \\\n",
       "0     Photo Editor & Candy Camera & Grid & ScrapBook  ART_AND_DESIGN     4.1   \n",
       "1                                Coloring book moana  ART_AND_DESIGN     3.9   \n",
       "2  U Launcher Lite – FREE Live Cool Themes, Hide ...  ART_AND_DESIGN     4.7   \n",
       "3                              Sketch - Draw & Paint  ART_AND_DESIGN     4.5   \n",
       "4              Pixel Draw - Number Art Coloring Book  ART_AND_DESIGN     4.3   \n",
       "\n",
       "    Reviews     Size    Installs  Type Price Content Rating  \\\n",
       "0     159.0  19000.0     10000.0  Free     0       Everyone   \n",
       "1     967.0  14000.0    500000.0  Free     0       Everyone   \n",
       "2   87510.0   8700.0   5000000.0  Free     0       Everyone   \n",
       "3  215644.0  25000.0  50000000.0  Free     0           Teen   \n",
       "4     967.0   2800.0    100000.0  Free     0       Everyone   \n",
       "\n",
       "                      Genres      Last Updated         Current Ver  \\\n",
       "0               Art & Design   January 7, 2018               1.0.0   \n",
       "1  Art & Design;Pretend Play  January 15, 2018               2.0.0   \n",
       "2               Art & Design    August 1, 2018               1.2.4   \n",
       "3               Art & Design      June 8, 2018  Varies with device   \n",
       "4    Art & Design;Creativity     June 20, 2018                 1.1   \n",
       "\n",
       "    Android Ver  \n",
       "0  4.0.3 and up  \n",
       "1  4.0.3 and up  \n",
       "2  4.0.3 and up  \n",
       "3    4.2 and up  \n",
       "4    4.4 and up  "
      ]
     },
     "execution_count": 20,
     "metadata": {},
     "output_type": "execute_result"
    }
   ],
   "source": [
    "data.head()"
   ]
  },
  {
   "cell_type": "code",
   "execution_count": 21,
   "id": "87e4bae0",
   "metadata": {},
   "outputs": [
    {
     "name": "stdout",
     "output_type": "stream",
     "text": [
      "<class 'pandas.core.frame.DataFrame'>\n",
      "Int64Index: 9360 entries, 0 to 10840\n",
      "Data columns (total 13 columns):\n",
      " #   Column          Non-Null Count  Dtype  \n",
      "---  ------          --------------  -----  \n",
      " 0   App             9360 non-null   object \n",
      " 1   Category        9360 non-null   object \n",
      " 2   Rating          9360 non-null   float64\n",
      " 3   Reviews         9360 non-null   float64\n",
      " 4   Size            9360 non-null   float64\n",
      " 5   Installs        9360 non-null   float64\n",
      " 6   Type            9360 non-null   object \n",
      " 7   Price           9360 non-null   object \n",
      " 8   Content Rating  9360 non-null   object \n",
      " 9   Genres          9360 non-null   object \n",
      " 10  Last Updated    9360 non-null   object \n",
      " 11  Current Ver     9360 non-null   object \n",
      " 12  Android Ver     9360 non-null   object \n",
      "dtypes: float64(4), object(9)\n",
      "memory usage: 1023.8+ KB\n"
     ]
    }
   ],
   "source": [
    "data.info()"
   ]
  },
  {
   "cell_type": "code",
   "execution_count": 22,
   "id": "517d7951",
   "metadata": {},
   "outputs": [],
   "source": [
    "data[\"Installs\"] = data[\"Installs\"].astype(int)"
   ]
  },
  {
   "cell_type": "code",
   "execution_count": 23,
   "id": "3f1f7c07",
   "metadata": {},
   "outputs": [
    {
     "name": "stdout",
     "output_type": "stream",
     "text": [
      "<class 'pandas.core.frame.DataFrame'>\n",
      "Int64Index: 9360 entries, 0 to 10840\n",
      "Data columns (total 13 columns):\n",
      " #   Column          Non-Null Count  Dtype  \n",
      "---  ------          --------------  -----  \n",
      " 0   App             9360 non-null   object \n",
      " 1   Category        9360 non-null   object \n",
      " 2   Rating          9360 non-null   float64\n",
      " 3   Reviews         9360 non-null   float64\n",
      " 4   Size            9360 non-null   float64\n",
      " 5   Installs        9360 non-null   int32  \n",
      " 6   Type            9360 non-null   object \n",
      " 7   Price           9360 non-null   object \n",
      " 8   Content Rating  9360 non-null   object \n",
      " 9   Genres          9360 non-null   object \n",
      " 10  Last Updated    9360 non-null   object \n",
      " 11  Current Ver     9360 non-null   object \n",
      " 12  Android Ver     9360 non-null   object \n",
      "dtypes: float64(3), int32(1), object(9)\n",
      "memory usage: 987.2+ KB\n"
     ]
    }
   ],
   "source": [
    "data.info()"
   ]
  },
  {
   "cell_type": "markdown",
   "id": "31120606",
   "metadata": {},
   "source": [
    "### 4.(4)Price field is a string and has $ symbol. Remove ‘$’ sign, and convert it to numeric. ###"
   ]
  },
  {
   "cell_type": "code",
   "execution_count": 24,
   "id": "c47e7874",
   "metadata": {},
   "outputs": [],
   "source": [
    "data['Price'] = [ float(i.split('$')[1]) if '$' in i else float(0) for i in data['Price'] ]"
   ]
  },
  {
   "cell_type": "code",
   "execution_count": 25,
   "id": "6acda3bf",
   "metadata": {},
   "outputs": [
    {
     "data": {
      "text/html": [
       "<div>\n",
       "<style scoped>\n",
       "    .dataframe tbody tr th:only-of-type {\n",
       "        vertical-align: middle;\n",
       "    }\n",
       "\n",
       "    .dataframe tbody tr th {\n",
       "        vertical-align: top;\n",
       "    }\n",
       "\n",
       "    .dataframe thead th {\n",
       "        text-align: right;\n",
       "    }\n",
       "</style>\n",
       "<table border=\"1\" class=\"dataframe\">\n",
       "  <thead>\n",
       "    <tr style=\"text-align: right;\">\n",
       "      <th></th>\n",
       "      <th>App</th>\n",
       "      <th>Category</th>\n",
       "      <th>Rating</th>\n",
       "      <th>Reviews</th>\n",
       "      <th>Size</th>\n",
       "      <th>Installs</th>\n",
       "      <th>Type</th>\n",
       "      <th>Price</th>\n",
       "      <th>Content Rating</th>\n",
       "      <th>Genres</th>\n",
       "      <th>Last Updated</th>\n",
       "      <th>Current Ver</th>\n",
       "      <th>Android Ver</th>\n",
       "    </tr>\n",
       "  </thead>\n",
       "  <tbody>\n",
       "    <tr>\n",
       "      <th>0</th>\n",
       "      <td>Photo Editor &amp; Candy Camera &amp; Grid &amp; ScrapBook</td>\n",
       "      <td>ART_AND_DESIGN</td>\n",
       "      <td>4.1</td>\n",
       "      <td>159.0</td>\n",
       "      <td>19000.0</td>\n",
       "      <td>10000</td>\n",
       "      <td>Free</td>\n",
       "      <td>0.0</td>\n",
       "      <td>Everyone</td>\n",
       "      <td>Art &amp; Design</td>\n",
       "      <td>January 7, 2018</td>\n",
       "      <td>1.0.0</td>\n",
       "      <td>4.0.3 and up</td>\n",
       "    </tr>\n",
       "    <tr>\n",
       "      <th>1</th>\n",
       "      <td>Coloring book moana</td>\n",
       "      <td>ART_AND_DESIGN</td>\n",
       "      <td>3.9</td>\n",
       "      <td>967.0</td>\n",
       "      <td>14000.0</td>\n",
       "      <td>500000</td>\n",
       "      <td>Free</td>\n",
       "      <td>0.0</td>\n",
       "      <td>Everyone</td>\n",
       "      <td>Art &amp; Design;Pretend Play</td>\n",
       "      <td>January 15, 2018</td>\n",
       "      <td>2.0.0</td>\n",
       "      <td>4.0.3 and up</td>\n",
       "    </tr>\n",
       "    <tr>\n",
       "      <th>2</th>\n",
       "      <td>U Launcher Lite – FREE Live Cool Themes, Hide ...</td>\n",
       "      <td>ART_AND_DESIGN</td>\n",
       "      <td>4.7</td>\n",
       "      <td>87510.0</td>\n",
       "      <td>8700.0</td>\n",
       "      <td>5000000</td>\n",
       "      <td>Free</td>\n",
       "      <td>0.0</td>\n",
       "      <td>Everyone</td>\n",
       "      <td>Art &amp; Design</td>\n",
       "      <td>August 1, 2018</td>\n",
       "      <td>1.2.4</td>\n",
       "      <td>4.0.3 and up</td>\n",
       "    </tr>\n",
       "    <tr>\n",
       "      <th>3</th>\n",
       "      <td>Sketch - Draw &amp; Paint</td>\n",
       "      <td>ART_AND_DESIGN</td>\n",
       "      <td>4.5</td>\n",
       "      <td>215644.0</td>\n",
       "      <td>25000.0</td>\n",
       "      <td>50000000</td>\n",
       "      <td>Free</td>\n",
       "      <td>0.0</td>\n",
       "      <td>Teen</td>\n",
       "      <td>Art &amp; Design</td>\n",
       "      <td>June 8, 2018</td>\n",
       "      <td>Varies with device</td>\n",
       "      <td>4.2 and up</td>\n",
       "    </tr>\n",
       "    <tr>\n",
       "      <th>4</th>\n",
       "      <td>Pixel Draw - Number Art Coloring Book</td>\n",
       "      <td>ART_AND_DESIGN</td>\n",
       "      <td>4.3</td>\n",
       "      <td>967.0</td>\n",
       "      <td>2800.0</td>\n",
       "      <td>100000</td>\n",
       "      <td>Free</td>\n",
       "      <td>0.0</td>\n",
       "      <td>Everyone</td>\n",
       "      <td>Art &amp; Design;Creativity</td>\n",
       "      <td>June 20, 2018</td>\n",
       "      <td>1.1</td>\n",
       "      <td>4.4 and up</td>\n",
       "    </tr>\n",
       "  </tbody>\n",
       "</table>\n",
       "</div>"
      ],
      "text/plain": [
       "                                                 App        Category  Rating  \\\n",
       "0     Photo Editor & Candy Camera & Grid & ScrapBook  ART_AND_DESIGN     4.1   \n",
       "1                                Coloring book moana  ART_AND_DESIGN     3.9   \n",
       "2  U Launcher Lite – FREE Live Cool Themes, Hide ...  ART_AND_DESIGN     4.7   \n",
       "3                              Sketch - Draw & Paint  ART_AND_DESIGN     4.5   \n",
       "4              Pixel Draw - Number Art Coloring Book  ART_AND_DESIGN     4.3   \n",
       "\n",
       "    Reviews     Size  Installs  Type  Price Content Rating  \\\n",
       "0     159.0  19000.0     10000  Free    0.0       Everyone   \n",
       "1     967.0  14000.0    500000  Free    0.0       Everyone   \n",
       "2   87510.0   8700.0   5000000  Free    0.0       Everyone   \n",
       "3  215644.0  25000.0  50000000  Free    0.0           Teen   \n",
       "4     967.0   2800.0    100000  Free    0.0       Everyone   \n",
       "\n",
       "                      Genres      Last Updated         Current Ver  \\\n",
       "0               Art & Design   January 7, 2018               1.0.0   \n",
       "1  Art & Design;Pretend Play  January 15, 2018               2.0.0   \n",
       "2               Art & Design    August 1, 2018               1.2.4   \n",
       "3               Art & Design      June 8, 2018  Varies with device   \n",
       "4    Art & Design;Creativity     June 20, 2018                 1.1   \n",
       "\n",
       "    Android Ver  \n",
       "0  4.0.3 and up  \n",
       "1  4.0.3 and up  \n",
       "2  4.0.3 and up  \n",
       "3    4.2 and up  \n",
       "4    4.4 and up  "
      ]
     },
     "execution_count": 25,
     "metadata": {},
     "output_type": "execute_result"
    }
   ],
   "source": [
    "data.head()"
   ]
  },
  {
   "cell_type": "code",
   "execution_count": 26,
   "id": "64ce8e5a",
   "metadata": {},
   "outputs": [
    {
     "name": "stdout",
     "output_type": "stream",
     "text": [
      "<class 'pandas.core.frame.DataFrame'>\n",
      "Int64Index: 9360 entries, 0 to 10840\n",
      "Data columns (total 13 columns):\n",
      " #   Column          Non-Null Count  Dtype  \n",
      "---  ------          --------------  -----  \n",
      " 0   App             9360 non-null   object \n",
      " 1   Category        9360 non-null   object \n",
      " 2   Rating          9360 non-null   float64\n",
      " 3   Reviews         9360 non-null   float64\n",
      " 4   Size            9360 non-null   float64\n",
      " 5   Installs        9360 non-null   int32  \n",
      " 6   Type            9360 non-null   object \n",
      " 7   Price           9360 non-null   float64\n",
      " 8   Content Rating  9360 non-null   object \n",
      " 9   Genres          9360 non-null   object \n",
      " 10  Last Updated    9360 non-null   object \n",
      " 11  Current Ver     9360 non-null   object \n",
      " 12  Android Ver     9360 non-null   object \n",
      "dtypes: float64(4), int32(1), object(8)\n",
      "memory usage: 987.2+ KB\n"
     ]
    }
   ],
   "source": [
    "data.info()"
   ]
  },
  {
   "cell_type": "code",
   "execution_count": 27,
   "id": "7c45e05f",
   "metadata": {},
   "outputs": [],
   "source": [
    "data[\"Price\"] = data[\"Price\"].astype(int)"
   ]
  },
  {
   "cell_type": "code",
   "execution_count": 28,
   "id": "58d65685",
   "metadata": {},
   "outputs": [
    {
     "name": "stdout",
     "output_type": "stream",
     "text": [
      "<class 'pandas.core.frame.DataFrame'>\n",
      "Int64Index: 9360 entries, 0 to 10840\n",
      "Data columns (total 13 columns):\n",
      " #   Column          Non-Null Count  Dtype  \n",
      "---  ------          --------------  -----  \n",
      " 0   App             9360 non-null   object \n",
      " 1   Category        9360 non-null   object \n",
      " 2   Rating          9360 non-null   float64\n",
      " 3   Reviews         9360 non-null   float64\n",
      " 4   Size            9360 non-null   float64\n",
      " 5   Installs        9360 non-null   int32  \n",
      " 6   Type            9360 non-null   object \n",
      " 7   Price           9360 non-null   int32  \n",
      " 8   Content Rating  9360 non-null   object \n",
      " 9   Genres          9360 non-null   object \n",
      " 10  Last Updated    9360 non-null   object \n",
      " 11  Current Ver     9360 non-null   object \n",
      " 12  Android Ver     9360 non-null   object \n",
      "dtypes: float64(3), int32(2), object(8)\n",
      "memory usage: 950.6+ KB\n"
     ]
    }
   ],
   "source": [
    "data.info()"
   ]
  },
  {
   "cell_type": "markdown",
   "id": "86c1cfd6",
   "metadata": {},
   "source": [
    "### 5 Sanity checks:\n",
    "\n",
    " ### 5(1) Average rating should be between 1 and 5 as only these values are allowed on the play store.\n",
    "### Drop the rows that have a value outside this range. ###"
   ]
  },
  {
   "cell_type": "code",
   "execution_count": 29,
   "id": "a0578091",
   "metadata": {},
   "outputs": [
    {
     "data": {
      "text/plain": [
       "(9360, 13)"
      ]
     },
     "execution_count": 29,
     "metadata": {},
     "output_type": "execute_result"
    }
   ],
   "source": [
    "data.shape"
   ]
  },
  {
   "cell_type": "code",
   "execution_count": 30,
   "id": "c69125d3",
   "metadata": {},
   "outputs": [],
   "source": [
    "data.drop(data[(data['Reviews'] < 1) & (data['Reviews'] > 5 )].index, inplace = True)"
   ]
  },
  {
   "cell_type": "code",
   "execution_count": 31,
   "id": "7f5cacce",
   "metadata": {},
   "outputs": [
    {
     "data": {
      "text/plain": [
       "(9360, 13)"
      ]
     },
     "execution_count": 31,
     "metadata": {},
     "output_type": "execute_result"
    }
   ],
   "source": [
    "data.shape"
   ]
  },
  {
   "cell_type": "markdown",
   "id": "4bf69320",
   "metadata": {},
   "source": [
    "### 5 (2) Reviews should not be more than installs as only those who installed can review the app. \n",
    "### If there are any such records, drop them."
   ]
  },
  {
   "cell_type": "code",
   "execution_count": 32,
   "id": "708dd314",
   "metadata": {},
   "outputs": [
    {
     "data": {
      "text/plain": [
       "(9360, 13)"
      ]
     },
     "execution_count": 32,
     "metadata": {},
     "output_type": "execute_result"
    }
   ],
   "source": [
    "data.shape"
   ]
  },
  {
   "cell_type": "code",
   "execution_count": 33,
   "id": "24df9e52",
   "metadata": {},
   "outputs": [],
   "source": [
    "data.drop(data[data['Installs'] < data['Reviews'] ].index, inplace = True)"
   ]
  },
  {
   "cell_type": "code",
   "execution_count": 34,
   "id": "4eab6adc",
   "metadata": {},
   "outputs": [
    {
     "data": {
      "text/plain": [
       "(9353, 13)"
      ]
     },
     "execution_count": 34,
     "metadata": {},
     "output_type": "execute_result"
    }
   ],
   "source": [
    "data.shape"
   ]
  },
  {
   "cell_type": "markdown",
   "id": "4f236970",
   "metadata": {},
   "source": [
    "### 5(3) For free apps (type = “Free”), the price should not be >0. Drop any such rows. ###"
   ]
  },
  {
   "cell_type": "code",
   "execution_count": 35,
   "id": "554fcaf6",
   "metadata": {},
   "outputs": [
    {
     "data": {
      "text/plain": [
       "(9353, 13)"
      ]
     },
     "execution_count": 35,
     "metadata": {},
     "output_type": "execute_result"
    }
   ],
   "source": [
    "data.shape"
   ]
  },
  {
   "cell_type": "code",
   "execution_count": 36,
   "id": "38f23085",
   "metadata": {},
   "outputs": [],
   "source": [
    "data.drop(data[(data['Type'] =='Free') & (data['Price'] > 0 )].index, inplace = True)"
   ]
  },
  {
   "cell_type": "code",
   "execution_count": 37,
   "id": "2e4cd1e8",
   "metadata": {},
   "outputs": [
    {
     "data": {
      "text/plain": [
       "(9353, 13)"
      ]
     },
     "execution_count": 37,
     "metadata": {},
     "output_type": "execute_result"
    }
   ],
   "source": [
    "data.shape"
   ]
  },
  {
   "cell_type": "markdown",
   "id": "26f004c7",
   "metadata": {},
   "source": [
    "### 5. Performing univariate analysis: \n",
    "\n",
    "### Boxplot for Price\n",
    "\n",
    "### Are there any outliers? Think about the price of usual apps on Play Store."
   ]
  },
  {
   "cell_type": "code",
   "execution_count": 38,
   "id": "599d6a81",
   "metadata": {},
   "outputs": [
    {
     "name": "stdout",
     "output_type": "stream",
     "text": [
      "Requirement already satisfied: seaborn in c:\\users\\rakesh\\anaconda3\\lib\\site-packages (0.11.2)\n",
      "Requirement already satisfied: matplotlib>=2.2 in c:\\users\\rakesh\\anaconda3\\lib\\site-packages (from seaborn) (3.5.2)\n",
      "Requirement already satisfied: numpy>=1.15 in c:\\users\\rakesh\\anaconda3\\lib\\site-packages (from seaborn) (1.21.5)\n",
      "Requirement already satisfied: pandas>=0.23 in c:\\users\\rakesh\\anaconda3\\lib\\site-packages (from seaborn) (1.4.4)\n",
      "Requirement already satisfied: scipy>=1.0 in c:\\users\\rakesh\\anaconda3\\lib\\site-packages (from seaborn) (1.9.1)\n",
      "Requirement already satisfied: kiwisolver>=1.0.1 in c:\\users\\rakesh\\anaconda3\\lib\\site-packages (from matplotlib>=2.2->seaborn) (1.4.2)\n",
      "Requirement already satisfied: pillow>=6.2.0 in c:\\users\\rakesh\\anaconda3\\lib\\site-packages (from matplotlib>=2.2->seaborn) (9.2.0)\n",
      "Requirement already satisfied: cycler>=0.10 in c:\\users\\rakesh\\anaconda3\\lib\\site-packages (from matplotlib>=2.2->seaborn) (0.11.0)\n",
      "Requirement already satisfied: fonttools>=4.22.0 in c:\\users\\rakesh\\anaconda3\\lib\\site-packages (from matplotlib>=2.2->seaborn) (4.25.0)\n",
      "Requirement already satisfied: pyparsing>=2.2.1 in c:\\users\\rakesh\\anaconda3\\lib\\site-packages (from matplotlib>=2.2->seaborn) (3.0.9)\n",
      "Requirement already satisfied: packaging>=20.0 in c:\\users\\rakesh\\anaconda3\\lib\\site-packages (from matplotlib>=2.2->seaborn) (21.3)\n",
      "Requirement already satisfied: python-dateutil>=2.7 in c:\\users\\rakesh\\anaconda3\\lib\\site-packages (from matplotlib>=2.2->seaborn) (2.8.2)\n",
      "Requirement already satisfied: pytz>=2020.1 in c:\\users\\rakesh\\anaconda3\\lib\\site-packages (from pandas>=0.23->seaborn) (2022.1)\n",
      "Requirement already satisfied: six>=1.5 in c:\\users\\rakesh\\anaconda3\\lib\\site-packages (from python-dateutil>=2.7->matplotlib>=2.2->seaborn) (1.16.0)\n",
      "Note: you may need to restart the kernel to use updated packages.\n"
     ]
    }
   ],
   "source": [
    "pip install seaborn"
   ]
  },
  {
   "cell_type": "code",
   "execution_count": 39,
   "id": "bc7588a0",
   "metadata": {},
   "outputs": [
    {
     "name": "stdout",
     "output_type": "stream",
     "text": [
      "Requirement already satisfied: matplotlib in c:\\users\\rakesh\\anaconda3\\lib\\site-packages (3.5.2)\n",
      "Requirement already satisfied: fonttools>=4.22.0 in c:\\users\\rakesh\\anaconda3\\lib\\site-packages (from matplotlib) (4.25.0)\n",
      "Requirement already satisfied: numpy>=1.17 in c:\\users\\rakesh\\anaconda3\\lib\\site-packages (from matplotlib) (1.21.5)\n",
      "Requirement already satisfied: python-dateutil>=2.7 in c:\\users\\rakesh\\anaconda3\\lib\\site-packages (from matplotlib) (2.8.2)\n",
      "Requirement already satisfied: cycler>=0.10 in c:\\users\\rakesh\\anaconda3\\lib\\site-packages (from matplotlib) (0.11.0)\n",
      "Requirement already satisfied: pyparsing>=2.2.1 in c:\\users\\rakesh\\anaconda3\\lib\\site-packages (from matplotlib) (3.0.9)\n",
      "Requirement already satisfied: pillow>=6.2.0 in c:\\users\\rakesh\\anaconda3\\lib\\site-packages (from matplotlib) (9.2.0)\n",
      "Requirement already satisfied: kiwisolver>=1.0.1 in c:\\users\\rakesh\\anaconda3\\lib\\site-packages (from matplotlib) (1.4.2)\n",
      "Requirement already satisfied: packaging>=20.0 in c:\\users\\rakesh\\anaconda3\\lib\\site-packages (from matplotlib) (21.3)\n",
      "Requirement already satisfied: six>=1.5 in c:\\users\\rakesh\\anaconda3\\lib\\site-packages (from python-dateutil>=2.7->matplotlib) (1.16.0)\n",
      "Note: you may need to restart the kernel to use updated packages.\n"
     ]
    }
   ],
   "source": [
    "pip install matplotlib"
   ]
  },
  {
   "cell_type": "code",
   "execution_count": 41,
   "id": "30edae88",
   "metadata": {},
   "outputs": [],
   "source": [
    "import seaborn as sns\n",
    "import matplotlib.pyplot as plt"
   ]
  },
  {
   "cell_type": "code",
   "execution_count": 42,
   "id": "f8b22561",
   "metadata": {},
   "outputs": [
    {
     "data": {
      "text/html": [
       "<div>\n",
       "<style scoped>\n",
       "    .dataframe tbody tr th:only-of-type {\n",
       "        vertical-align: middle;\n",
       "    }\n",
       "\n",
       "    .dataframe tbody tr th {\n",
       "        vertical-align: top;\n",
       "    }\n",
       "\n",
       "    .dataframe thead th {\n",
       "        text-align: right;\n",
       "    }\n",
       "</style>\n",
       "<table border=\"1\" class=\"dataframe\">\n",
       "  <thead>\n",
       "    <tr style=\"text-align: right;\">\n",
       "      <th></th>\n",
       "      <th>App</th>\n",
       "      <th>Category</th>\n",
       "      <th>Rating</th>\n",
       "      <th>Reviews</th>\n",
       "      <th>Size</th>\n",
       "      <th>Installs</th>\n",
       "      <th>Type</th>\n",
       "      <th>Price</th>\n",
       "      <th>Content Rating</th>\n",
       "      <th>Genres</th>\n",
       "      <th>Last Updated</th>\n",
       "      <th>Current Ver</th>\n",
       "      <th>Android Ver</th>\n",
       "    </tr>\n",
       "  </thead>\n",
       "  <tbody>\n",
       "    <tr>\n",
       "      <th>0</th>\n",
       "      <td>Photo Editor &amp; Candy Camera &amp; Grid &amp; ScrapBook</td>\n",
       "      <td>ART_AND_DESIGN</td>\n",
       "      <td>4.1</td>\n",
       "      <td>159.0</td>\n",
       "      <td>19000.0</td>\n",
       "      <td>10000</td>\n",
       "      <td>Free</td>\n",
       "      <td>0</td>\n",
       "      <td>Everyone</td>\n",
       "      <td>Art &amp; Design</td>\n",
       "      <td>January 7, 2018</td>\n",
       "      <td>1.0.0</td>\n",
       "      <td>4.0.3 and up</td>\n",
       "    </tr>\n",
       "    <tr>\n",
       "      <th>1</th>\n",
       "      <td>Coloring book moana</td>\n",
       "      <td>ART_AND_DESIGN</td>\n",
       "      <td>3.9</td>\n",
       "      <td>967.0</td>\n",
       "      <td>14000.0</td>\n",
       "      <td>500000</td>\n",
       "      <td>Free</td>\n",
       "      <td>0</td>\n",
       "      <td>Everyone</td>\n",
       "      <td>Art &amp; Design;Pretend Play</td>\n",
       "      <td>January 15, 2018</td>\n",
       "      <td>2.0.0</td>\n",
       "      <td>4.0.3 and up</td>\n",
       "    </tr>\n",
       "    <tr>\n",
       "      <th>2</th>\n",
       "      <td>U Launcher Lite – FREE Live Cool Themes, Hide ...</td>\n",
       "      <td>ART_AND_DESIGN</td>\n",
       "      <td>4.7</td>\n",
       "      <td>87510.0</td>\n",
       "      <td>8700.0</td>\n",
       "      <td>5000000</td>\n",
       "      <td>Free</td>\n",
       "      <td>0</td>\n",
       "      <td>Everyone</td>\n",
       "      <td>Art &amp; Design</td>\n",
       "      <td>August 1, 2018</td>\n",
       "      <td>1.2.4</td>\n",
       "      <td>4.0.3 and up</td>\n",
       "    </tr>\n",
       "    <tr>\n",
       "      <th>3</th>\n",
       "      <td>Sketch - Draw &amp; Paint</td>\n",
       "      <td>ART_AND_DESIGN</td>\n",
       "      <td>4.5</td>\n",
       "      <td>215644.0</td>\n",
       "      <td>25000.0</td>\n",
       "      <td>50000000</td>\n",
       "      <td>Free</td>\n",
       "      <td>0</td>\n",
       "      <td>Teen</td>\n",
       "      <td>Art &amp; Design</td>\n",
       "      <td>June 8, 2018</td>\n",
       "      <td>Varies with device</td>\n",
       "      <td>4.2 and up</td>\n",
       "    </tr>\n",
       "    <tr>\n",
       "      <th>4</th>\n",
       "      <td>Pixel Draw - Number Art Coloring Book</td>\n",
       "      <td>ART_AND_DESIGN</td>\n",
       "      <td>4.3</td>\n",
       "      <td>967.0</td>\n",
       "      <td>2800.0</td>\n",
       "      <td>100000</td>\n",
       "      <td>Free</td>\n",
       "      <td>0</td>\n",
       "      <td>Everyone</td>\n",
       "      <td>Art &amp; Design;Creativity</td>\n",
       "      <td>June 20, 2018</td>\n",
       "      <td>1.1</td>\n",
       "      <td>4.4 and up</td>\n",
       "    </tr>\n",
       "  </tbody>\n",
       "</table>\n",
       "</div>"
      ],
      "text/plain": [
       "                                                 App        Category  Rating  \\\n",
       "0     Photo Editor & Candy Camera & Grid & ScrapBook  ART_AND_DESIGN     4.1   \n",
       "1                                Coloring book moana  ART_AND_DESIGN     3.9   \n",
       "2  U Launcher Lite – FREE Live Cool Themes, Hide ...  ART_AND_DESIGN     4.7   \n",
       "3                              Sketch - Draw & Paint  ART_AND_DESIGN     4.5   \n",
       "4              Pixel Draw - Number Art Coloring Book  ART_AND_DESIGN     4.3   \n",
       "\n",
       "    Reviews     Size  Installs  Type  Price Content Rating  \\\n",
       "0     159.0  19000.0     10000  Free      0       Everyone   \n",
       "1     967.0  14000.0    500000  Free      0       Everyone   \n",
       "2   87510.0   8700.0   5000000  Free      0       Everyone   \n",
       "3  215644.0  25000.0  50000000  Free      0           Teen   \n",
       "4     967.0   2800.0    100000  Free      0       Everyone   \n",
       "\n",
       "                      Genres      Last Updated         Current Ver  \\\n",
       "0               Art & Design   January 7, 2018               1.0.0   \n",
       "1  Art & Design;Pretend Play  January 15, 2018               2.0.0   \n",
       "2               Art & Design    August 1, 2018               1.2.4   \n",
       "3               Art & Design      June 8, 2018  Varies with device   \n",
       "4    Art & Design;Creativity     June 20, 2018                 1.1   \n",
       "\n",
       "    Android Ver  \n",
       "0  4.0.3 and up  \n",
       "1  4.0.3 and up  \n",
       "2  4.0.3 and up  \n",
       "3    4.2 and up  \n",
       "4    4.4 and up  "
      ]
     },
     "execution_count": 42,
     "metadata": {},
     "output_type": "execute_result"
    }
   ],
   "source": [
    "data.head()"
   ]
  },
  {
   "cell_type": "code",
   "execution_count": 43,
   "id": "eb7d89a0",
   "metadata": {},
   "outputs": [],
   "source": [
    "sns.set(style='whitegrid')"
   ]
  },
  {
   "cell_type": "code",
   "execution_count": 44,
   "id": "6aa3d62e",
   "metadata": {},
   "outputs": [
    {
     "name": "stderr",
     "output_type": "stream",
     "text": [
      "C:\\Users\\Rakesh\\anaconda3\\lib\\site-packages\\seaborn\\_decorators.py:36: FutureWarning: Pass the following variable as a keyword arg: x. From version 0.12, the only valid positional argument will be `data`, and passing other arguments without an explicit keyword will result in an error or misinterpretation.\n",
      "  warnings.warn(\n"
     ]
    },
    {
     "data": {
      "text/plain": [
       "<AxesSubplot:xlabel='Price'>"
      ]
     },
     "execution_count": 44,
     "metadata": {},
     "output_type": "execute_result"
    },
    {
     "data": {
      "image/png": "[encoded data removed]",
      "text/plain": [
       "<Figure size 640x480 with 1 Axes>"
      ]
     },
     "metadata": {},
     "output_type": "display_data"
    }
   ],
   "source": [
    "# Box Plot for Price\n",
    "sns.boxplot(data['Price'])"
   ]
  },
  {
   "cell_type": "markdown",
   "id": "a8a7f430",
   "metadata": {},
   "source": [
    "### 5(2) Boxplot for Reviews\n",
    "\n",
    "### Are there any apps with very high number of reviews? Do the values seem right?"
   ]
  },
  {
   "cell_type": "code",
   "execution_count": 45,
   "id": "45d2431d",
   "metadata": {},
   "outputs": [
    {
     "name": "stderr",
     "output_type": "stream",
     "text": [
      "C:\\Users\\Rakesh\\anaconda3\\lib\\site-packages\\seaborn\\_decorators.py:36: FutureWarning: Pass the following variable as a keyword arg: x. From version 0.12, the only valid positional argument will be `data`, and passing other arguments without an explicit keyword will result in an error or misinterpretation.\n",
      "  warnings.warn(\n"
     ]
    },
    {
     "data": {
      "text/plain": [
       "<AxesSubplot:xlabel='Reviews'>"
      ]
     },
     "execution_count": 45,
     "metadata": {},
     "output_type": "execute_result"
    },
    {
     "data": {
      "image/png": "[encoded data removed]",
      "text/plain": [
       "<Figure size 640x480 with 1 Axes>"
      ]
     },
     "metadata": {},
     "output_type": "display_data"
    }
   ],
   "source": [
    "sns.boxplot(data['Reviews'])"
   ]
  },
  {
   "cell_type": "markdown",
   "id": "7b107fb8",
   "metadata": {},
   "source": [
    "### Histogram for Rating\n",
    "\n",
    "### How are the ratings distributed? Is it more toward higher ratings?"
   ]
  },
  {
   "cell_type": "code",
   "execution_count": 48,
   "id": "ef9c26de",
   "metadata": {},
   "outputs": [
    {
     "data": {
      "text/plain": [
       "(array([  17.,   18.,   41.,   74.,  137.,  445.,  879., 1660., 4172.,\n",
       "        1910.]),\n",
       " array([1. , 1.4, 1.8, 2.2, 2.6, 3. , 3.4, 3.8, 4.2, 4.6, 5. ]),\n",
       " <BarContainer object of 10 artists>)"
      ]
     },
     "execution_count": 48,
     "metadata": {},
     "output_type": "execute_result"
    },
    {
     "data": {
      "image/png": "[encoded data removed]",
      "text/plain": [
       "<Figure size 640x480 with 1 Axes>"
      ]
     },
     "metadata": {},
     "output_type": "display_data"
    }
   ],
   "source": [
    "plt.hist(data['Rating'])"
   ]
  },
  {
   "cell_type": "markdown",
   "id": "9b0e9094",
   "metadata": {},
   "source": [
    "### 5(4) Histogram for Size"
   ]
  },
  {
   "cell_type": "code",
   "execution_count": 49,
   "id": "01d0113e",
   "metadata": {},
   "outputs": [
    {
     "data": {
      "text/plain": [
       "(array([4779., 1386., 1036.,  617.,  464.,  334.,  234.,  174.,  125.,\n",
       "         204.]),\n",
       " array([     0.,  10000.,  20000.,  30000.,  40000.,  50000.,  60000.,\n",
       "         70000.,  80000.,  90000., 100000.]),\n",
       " <BarContainer object of 10 artists>)"
      ]
     },
     "execution_count": 49,
     "metadata": {},
     "output_type": "execute_result"
    },
    {
     "data": {
      "image/png": "[encoded data removed]",
      "text/plain": [
       "<Figure size 640x480 with 1 Axes>"
      ]
     },
     "metadata": {},
     "output_type": "display_data"
    }
   ],
   "source": [
    "plt.hist(data['Size'])"
   ]
  },
  {
   "cell_type": "markdown",
   "id": "f27acdb1",
   "metadata": {},
   "source": [
    "### 6. Outlier treatment: \n",
    "\n",
    "### 6(1) Price: From the box plot, it seems like there are some apps with very high price.\n",
    "### A price of $200 for an application on the Play Store is very high and suspicious!\n",
    "### 6(I) Check out the records with very high price\n",
    "\n",
    "### Is 200 indeed a high price?"
   ]
  },
  {
   "cell_type": "code",
   "execution_count": 50,
   "id": "55465309",
   "metadata": {
    "scrolled": true
   },
   "outputs": [
    {
     "data": {
      "text/plain": [
       "15"
      ]
     },
     "execution_count": 50,
     "metadata": {},
     "output_type": "execute_result"
    }
   ],
   "source": [
    "data[data['Price']>200].index.shape[0]"
   ]
  },
  {
   "cell_type": "markdown",
   "id": "74219e38",
   "metadata": {},
   "source": [
    "### 6(II) Drop these as most seem to be junk apps"
   ]
  },
  {
   "cell_type": "code",
   "execution_count": 51,
   "id": "16eb4511",
   "metadata": {},
   "outputs": [],
   "source": [
    "data.drop(data[data['Price']>200].index, inplace=True)"
   ]
  },
  {
   "cell_type": "code",
   "execution_count": 52,
   "id": "dd7d0de9",
   "metadata": {},
   "outputs": [
    {
     "data": {
      "text/plain": [
       "(9338, 13)"
      ]
     },
     "execution_count": 52,
     "metadata": {},
     "output_type": "execute_result"
    }
   ],
   "source": [
    "data.shape"
   ]
  },
  {
   "cell_type": "markdown",
   "id": "4576470b",
   "metadata": {},
   "source": [
    "### 6(2) Reviews: Very few apps have very high number of reviews. These are all star apps that don’t help with the analysis and, in fact, will skew it. \n",
    "### Drop records having more than 2 million reviews."
   ]
  },
  {
   "cell_type": "code",
   "execution_count": 53,
   "id": "222db77c",
   "metadata": {},
   "outputs": [],
   "source": [
    "data.drop(data[data['Reviews'] > 2000000].index, inplace = True)"
   ]
  },
  {
   "cell_type": "code",
   "execution_count": 54,
   "id": "7dbb43d5",
   "metadata": {},
   "outputs": [
    {
     "data": {
      "text/plain": [
       "(8885, 13)"
      ]
     },
     "execution_count": 54,
     "metadata": {},
     "output_type": "execute_result"
    }
   ],
   "source": [
    "data.shape"
   ]
  },
  {
   "cell_type": "markdown",
   "id": "cae8412b",
   "metadata": {},
   "source": [
    "### 6(3)Installs:  There seems to be some outliers in this field too.\n",
    "### Apps having very high number of installs should be dropped from the analysis.\n",
    "\n",
    "### Find out the different percentiles – 10, 25, 50, 70, 90, 95, 99"
   ]
  },
  {
   "cell_type": "code",
   "execution_count": 55,
   "id": "614baa10",
   "metadata": {},
   "outputs": [
    {
     "data": {
      "text/html": [
       "<div>\n",
       "<style scoped>\n",
       "    .dataframe tbody tr th:only-of-type {\n",
       "        vertical-align: middle;\n",
       "    }\n",
       "\n",
       "    .dataframe tbody tr th {\n",
       "        vertical-align: top;\n",
       "    }\n",
       "\n",
       "    .dataframe thead th {\n",
       "        text-align: right;\n",
       "    }\n",
       "</style>\n",
       "<table border=\"1\" class=\"dataframe\">\n",
       "  <thead>\n",
       "    <tr style=\"text-align: right;\">\n",
       "      <th></th>\n",
       "      <th>Rating</th>\n",
       "      <th>Reviews</th>\n",
       "      <th>Size</th>\n",
       "      <th>Installs</th>\n",
       "      <th>Price</th>\n",
       "    </tr>\n",
       "  </thead>\n",
       "  <tbody>\n",
       "    <tr>\n",
       "      <th>0.10</th>\n",
       "      <td>3.5</td>\n",
       "      <td>18.00</td>\n",
       "      <td>0.0</td>\n",
       "      <td>1000.0</td>\n",
       "      <td>0.0</td>\n",
       "    </tr>\n",
       "    <tr>\n",
       "      <th>0.25</th>\n",
       "      <td>4.0</td>\n",
       "      <td>159.00</td>\n",
       "      <td>2600.0</td>\n",
       "      <td>10000.0</td>\n",
       "      <td>0.0</td>\n",
       "    </tr>\n",
       "    <tr>\n",
       "      <th>0.50</th>\n",
       "      <td>4.3</td>\n",
       "      <td>4290.00</td>\n",
       "      <td>9500.0</td>\n",
       "      <td>500000.0</td>\n",
       "      <td>0.0</td>\n",
       "    </tr>\n",
       "    <tr>\n",
       "      <th>0.70</th>\n",
       "      <td>4.5</td>\n",
       "      <td>35930.40</td>\n",
       "      <td>23000.0</td>\n",
       "      <td>1000000.0</td>\n",
       "      <td>0.0</td>\n",
       "    </tr>\n",
       "    <tr>\n",
       "      <th>0.90</th>\n",
       "      <td>4.7</td>\n",
       "      <td>296771.00</td>\n",
       "      <td>50000.0</td>\n",
       "      <td>10000000.0</td>\n",
       "      <td>0.0</td>\n",
       "    </tr>\n",
       "    <tr>\n",
       "      <th>0.95</th>\n",
       "      <td>4.8</td>\n",
       "      <td>637298.00</td>\n",
       "      <td>68000.0</td>\n",
       "      <td>10000000.0</td>\n",
       "      <td>1.0</td>\n",
       "    </tr>\n",
       "    <tr>\n",
       "      <th>0.99</th>\n",
       "      <td>5.0</td>\n",
       "      <td>1462800.88</td>\n",
       "      <td>95000.0</td>\n",
       "      <td>100000000.0</td>\n",
       "      <td>7.0</td>\n",
       "    </tr>\n",
       "  </tbody>\n",
       "</table>\n",
       "</div>"
      ],
      "text/plain": [
       "      Rating     Reviews     Size     Installs  Price\n",
       "0.10     3.5       18.00      0.0       1000.0    0.0\n",
       "0.25     4.0      159.00   2600.0      10000.0    0.0\n",
       "0.50     4.3     4290.00   9500.0     500000.0    0.0\n",
       "0.70     4.5    35930.40  23000.0    1000000.0    0.0\n",
       "0.90     4.7   296771.00  50000.0   10000000.0    0.0\n",
       "0.95     4.8   637298.00  68000.0   10000000.0    1.0\n",
       "0.99     5.0  1462800.88  95000.0  100000000.0    7.0"
      ]
     },
     "execution_count": 55,
     "metadata": {},
     "output_type": "execute_result"
    }
   ],
   "source": [
    "data.quantile([.1, .25, .5, .70, .90, .95, .99], axis = 0) "
   ]
  },
  {
   "cell_type": "markdown",
   "id": "f823b75e",
   "metadata": {},
   "source": [
    "### 6(II) Decide a threshold as cutoff for outlier and drop records having values more than that"
   ]
  },
  {
   "cell_type": "code",
   "execution_count": 56,
   "id": "c584db2e",
   "metadata": {},
   "outputs": [],
   "source": [
    "data.drop(data[data['Installs'] > 10000000].index, inplace = True)"
   ]
  },
  {
   "cell_type": "code",
   "execution_count": 57,
   "id": "5533252d",
   "metadata": {},
   "outputs": [
    {
     "data": {
      "text/plain": [
       "(8496, 13)"
      ]
     },
     "execution_count": 57,
     "metadata": {},
     "output_type": "execute_result"
    }
   ],
   "source": [
    "data.shape"
   ]
  },
  {
   "cell_type": "markdown",
   "id": "856d3e7d",
   "metadata": {},
   "source": [
    "### 7. Bivariate analysis: Let’s look at how the available predictors relate to the variable of interest, i.e., our target variable rating.\n",
    "### Make scatter plots (for numeric features) and box plots (for character features) to assess the relations between rating and the other features."
   ]
  },
  {
   "cell_type": "markdown",
   "id": "4cde8edc",
   "metadata": {},
   "source": [
    "### Make scatter plot/joinplot for Rating vs. Price\n",
    "\n",
    "### What pattern do you observe? Does rating increase with price?"
   ]
  },
  {
   "cell_type": "code",
   "execution_count": 58,
   "id": "fc5df930",
   "metadata": {},
   "outputs": [
    {
     "data": {
      "text/plain": [
       "<AxesSubplot:xlabel='Rating', ylabel='Price'>"
      ]
     },
     "execution_count": 58,
     "metadata": {},
     "output_type": "execute_result"
    },
    {
     "data": {
      "image/png": "[encoded data removed]",
      "text/plain": [
       "<Figure size 640x480 with 1 Axes>"
      ]
     },
     "metadata": {},
     "output_type": "display_data"
    }
   ],
   "source": [
    "sns.scatterplot(x='Rating', y='Price', data=data)"
   ]
  },
  {
   "cell_type": "code",
   "execution_count": 59,
   "id": "83414f8a",
   "metadata": {},
   "outputs": [
    {
     "data": {
      "text/plain": [
       "<seaborn.axisgrid.JointGrid at 0x2063f2c22e0>"
      ]
     },
     "execution_count": 59,
     "metadata": {},
     "output_type": "execute_result"
    },
    {
     "data": {
      "image/png": "[encoded data removed]",
      "text/plain": [
       "<Figure size 600x600 with 3 Axes>"
      ]
     },
     "metadata": {},
     "output_type": "display_data"
    }
   ],
   "source": [
    "sns.jointplot(x= 'Rating',y= 'Price',data= data)"
   ]
  },
  {
   "cell_type": "code",
   "execution_count": 60,
   "id": "6494a8f5",
   "metadata": {},
   "outputs": [
    {
     "data": {
      "text/plain": [
       "<AxesSubplot:xlabel='Rating', ylabel='Size'>"
      ]
     },
     "execution_count": 60,
     "metadata": {},
     "output_type": "execute_result"
    },
    {
     "data": {
      "image/png": "[encoded data removed]",
      "text/plain": [
       "<Figure size 640x480 with 1 Axes>"
      ]
     },
     "metadata": {},
     "output_type": "display_data"
    }
   ],
   "source": [
    "sns.scatterplot(x= 'Rating',y= 'Size', data = data)"
   ]
  },
  {
   "cell_type": "markdown",
   "id": "56e5f814",
   "metadata": {},
   "source": [
    "### Make scatter plot/joinplot for Rating vs. Size\n",
    "\n",
    "### Are heavier apps rated better?\n"
   ]
  },
  {
   "cell_type": "code",
   "execution_count": 61,
   "id": "25cb0e78",
   "metadata": {},
   "outputs": [
    {
     "data": {
      "text/plain": [
       "<seaborn.axisgrid.JointGrid at 0x2063f679d60>"
      ]
     },
     "execution_count": 61,
     "metadata": {},
     "output_type": "execute_result"
    },
    {
     "data": {
      "image/png": "[encoded data removed]",
      "text/plain": [
       "<Figure size 600x600 with 3 Axes>"
      ]
     },
     "metadata": {},
     "output_type": "display_data"
    }
   ],
   "source": [
    "sns.jointplot(x= 'Rating', y= 'Size', data = data)"
   ]
  },
  {
   "cell_type": "markdown",
   "id": "9ce9553d",
   "metadata": {},
   "source": [
    "### Make scatter plot/joinplot for Rating vs. Reviews\n",
    "\n",
    "### Does more review mean a better rating always?"
   ]
  },
  {
   "cell_type": "code",
   "execution_count": 62,
   "id": "a9f66cae",
   "metadata": {},
   "outputs": [
    {
     "data": {
      "text/plain": [
       "<AxesSubplot:xlabel='Rating', ylabel='Reviews'>"
      ]
     },
     "execution_count": 62,
     "metadata": {},
     "output_type": "execute_result"
    },
    {
     "data": {
      "image/png": "[encoded data removed]",
      "text/plain": [
       "<Figure size 640x480 with 1 Axes>"
      ]
     },
     "metadata": {},
     "output_type": "display_data"
    }
   ],
   "source": [
    "sns.scatterplot(x= 'Rating',y= 'Reviews', data = data)"
   ]
  },
  {
   "cell_type": "markdown",
   "id": "0739304e",
   "metadata": {},
   "source": [
    "### Make boxplot for Rating vs. Content Rating\n",
    "\n",
    "### Is there any difference in the ratings? Are some types liked better?"
   ]
  },
  {
   "cell_type": "code",
   "execution_count": 63,
   "id": "398e6499",
   "metadata": {},
   "outputs": [
    {
     "data": {
      "text/plain": [
       "<AxesSubplot:xlabel='Rating', ylabel='Content Rating'>"
      ]
     },
     "execution_count": 63,
     "metadata": {},
     "output_type": "execute_result"
    },
    {
     "data": {
      "image/png": "[encoded data removed]",
      "text/plain": [
       "<Figure size 640x480 with 1 Axes>"
      ]
     },
     "metadata": {},
     "output_type": "display_data"
    }
   ],
   "source": [
    "sns.boxplot(x= 'Rating', y= 'Content Rating', data = data)"
   ]
  },
  {
   "cell_type": "markdown",
   "id": "eb991ced",
   "metadata": {},
   "source": [
    "### Make boxplot for Ratings vs. Category\n",
    "\n",
    "### Which genre has the best ratings?"
   ]
  },
  {
   "cell_type": "code",
   "execution_count": 64,
   "id": "47288efb",
   "metadata": {},
   "outputs": [
    {
     "data": {
      "text/plain": [
       "<AxesSubplot:xlabel='Rating', ylabel='Category'>"
      ]
     },
     "execution_count": 64,
     "metadata": {},
     "output_type": "execute_result"
    },
    {
     "data": {
      "image/png": "[encoded data removed]",
      "text/plain": [
       "<Figure size 640x480 with 1 Axes>"
      ]
     },
     "metadata": {},
     "output_type": "display_data"
    }
   ],
   "source": [
    "sns.boxplot(x= 'Rating', y= 'Category', data = data)"
   ]
  },
  {
   "cell_type": "markdown",
   "id": "1c60bb13",
   "metadata": {},
   "source": [
    "### 8. Data preprocessing\n",
    "\n",
    "### For the steps below, create a copy of the dataframe to make all the edits. Name it inp1.\n",
    "\n",
    "### (1) Reviews and Install have some values that are still relatively very high. \n",
    "### Before building a linear regression model, you need to reduce the skew. \n",
    "### Apply log transformation (np.log1p) to Reviews and Installs."
   ]
  },
  {
   "cell_type": "code",
   "execution_count": 65,
   "id": "b258558e",
   "metadata": {},
   "outputs": [],
   "source": [
    "inp1 = data"
   ]
  },
  {
   "cell_type": "code",
   "execution_count": 66,
   "id": "12d40c4e",
   "metadata": {},
   "outputs": [
    {
     "data": {
      "text/html": [
       "<div>\n",
       "<style scoped>\n",
       "    .dataframe tbody tr th:only-of-type {\n",
       "        vertical-align: middle;\n",
       "    }\n",
       "\n",
       "    .dataframe tbody tr th {\n",
       "        vertical-align: top;\n",
       "    }\n",
       "\n",
       "    .dataframe thead th {\n",
       "        text-align: right;\n",
       "    }\n",
       "</style>\n",
       "<table border=\"1\" class=\"dataframe\">\n",
       "  <thead>\n",
       "    <tr style=\"text-align: right;\">\n",
       "      <th></th>\n",
       "      <th>App</th>\n",
       "      <th>Category</th>\n",
       "      <th>Rating</th>\n",
       "      <th>Reviews</th>\n",
       "      <th>Size</th>\n",
       "      <th>Installs</th>\n",
       "      <th>Type</th>\n",
       "      <th>Price</th>\n",
       "      <th>Content Rating</th>\n",
       "      <th>Genres</th>\n",
       "      <th>Last Updated</th>\n",
       "      <th>Current Ver</th>\n",
       "      <th>Android Ver</th>\n",
       "    </tr>\n",
       "  </thead>\n",
       "  <tbody>\n",
       "    <tr>\n",
       "      <th>0</th>\n",
       "      <td>Photo Editor &amp; Candy Camera &amp; Grid &amp; ScrapBook</td>\n",
       "      <td>ART_AND_DESIGN</td>\n",
       "      <td>4.1</td>\n",
       "      <td>159.0</td>\n",
       "      <td>19000.0</td>\n",
       "      <td>10000</td>\n",
       "      <td>Free</td>\n",
       "      <td>0</td>\n",
       "      <td>Everyone</td>\n",
       "      <td>Art &amp; Design</td>\n",
       "      <td>January 7, 2018</td>\n",
       "      <td>1.0.0</td>\n",
       "      <td>4.0.3 and up</td>\n",
       "    </tr>\n",
       "    <tr>\n",
       "      <th>1</th>\n",
       "      <td>Coloring book moana</td>\n",
       "      <td>ART_AND_DESIGN</td>\n",
       "      <td>3.9</td>\n",
       "      <td>967.0</td>\n",
       "      <td>14000.0</td>\n",
       "      <td>500000</td>\n",
       "      <td>Free</td>\n",
       "      <td>0</td>\n",
       "      <td>Everyone</td>\n",
       "      <td>Art &amp; Design;Pretend Play</td>\n",
       "      <td>January 15, 2018</td>\n",
       "      <td>2.0.0</td>\n",
       "      <td>4.0.3 and up</td>\n",
       "    </tr>\n",
       "    <tr>\n",
       "      <th>2</th>\n",
       "      <td>U Launcher Lite – FREE Live Cool Themes, Hide ...</td>\n",
       "      <td>ART_AND_DESIGN</td>\n",
       "      <td>4.7</td>\n",
       "      <td>87510.0</td>\n",
       "      <td>8700.0</td>\n",
       "      <td>5000000</td>\n",
       "      <td>Free</td>\n",
       "      <td>0</td>\n",
       "      <td>Everyone</td>\n",
       "      <td>Art &amp; Design</td>\n",
       "      <td>August 1, 2018</td>\n",
       "      <td>1.2.4</td>\n",
       "      <td>4.0.3 and up</td>\n",
       "    </tr>\n",
       "    <tr>\n",
       "      <th>4</th>\n",
       "      <td>Pixel Draw - Number Art Coloring Book</td>\n",
       "      <td>ART_AND_DESIGN</td>\n",
       "      <td>4.3</td>\n",
       "      <td>967.0</td>\n",
       "      <td>2800.0</td>\n",
       "      <td>100000</td>\n",
       "      <td>Free</td>\n",
       "      <td>0</td>\n",
       "      <td>Everyone</td>\n",
       "      <td>Art &amp; Design;Creativity</td>\n",
       "      <td>June 20, 2018</td>\n",
       "      <td>1.1</td>\n",
       "      <td>4.4 and up</td>\n",
       "    </tr>\n",
       "    <tr>\n",
       "      <th>5</th>\n",
       "      <td>Paper flowers instructions</td>\n",
       "      <td>ART_AND_DESIGN</td>\n",
       "      <td>4.4</td>\n",
       "      <td>167.0</td>\n",
       "      <td>5600.0</td>\n",
       "      <td>50000</td>\n",
       "      <td>Free</td>\n",
       "      <td>0</td>\n",
       "      <td>Everyone</td>\n",
       "      <td>Art &amp; Design</td>\n",
       "      <td>March 26, 2017</td>\n",
       "      <td>1.0</td>\n",
       "      <td>2.3 and up</td>\n",
       "    </tr>\n",
       "  </tbody>\n",
       "</table>\n",
       "</div>"
      ],
      "text/plain": [
       "                                                 App        Category  Rating  \\\n",
       "0     Photo Editor & Candy Camera & Grid & ScrapBook  ART_AND_DESIGN     4.1   \n",
       "1                                Coloring book moana  ART_AND_DESIGN     3.9   \n",
       "2  U Launcher Lite – FREE Live Cool Themes, Hide ...  ART_AND_DESIGN     4.7   \n",
       "4              Pixel Draw - Number Art Coloring Book  ART_AND_DESIGN     4.3   \n",
       "5                         Paper flowers instructions  ART_AND_DESIGN     4.4   \n",
       "\n",
       "   Reviews     Size  Installs  Type  Price Content Rating  \\\n",
       "0    159.0  19000.0     10000  Free      0       Everyone   \n",
       "1    967.0  14000.0    500000  Free      0       Everyone   \n",
       "2  87510.0   8700.0   5000000  Free      0       Everyone   \n",
       "4    967.0   2800.0    100000  Free      0       Everyone   \n",
       "5    167.0   5600.0     50000  Free      0       Everyone   \n",
       "\n",
       "                      Genres      Last Updated Current Ver   Android Ver  \n",
       "0               Art & Design   January 7, 2018       1.0.0  4.0.3 and up  \n",
       "1  Art & Design;Pretend Play  January 15, 2018       2.0.0  4.0.3 and up  \n",
       "2               Art & Design    August 1, 2018       1.2.4  4.0.3 and up  \n",
       "4    Art & Design;Creativity     June 20, 2018         1.1    4.4 and up  \n",
       "5               Art & Design    March 26, 2017         1.0    2.3 and up  "
      ]
     },
     "execution_count": 66,
     "metadata": {},
     "output_type": "execute_result"
    }
   ],
   "source": [
    "inp1.head()"
   ]
  },
  {
   "cell_type": "code",
   "execution_count": 67,
   "id": "d71d6def",
   "metadata": {},
   "outputs": [
    {
     "name": "stderr",
     "output_type": "stream",
     "text": [
      "C:\\Users\\Rakesh\\AppData\\Local\\Temp\\ipykernel_1348\\3545313420.py:1: FutureWarning: Dropping of nuisance columns in DataFrame reductions (with 'numeric_only=None') is deprecated; in a future version this will raise TypeError.  Select only valid columns before calling the reduction.\n",
      "  inp1.skew()\n"
     ]
    },
    {
     "data": {
      "text/plain": [
       "Rating      -1.749753\n",
       "Reviews      4.576494\n",
       "Size         1.655917\n",
       "Installs     1.543697\n",
       "Price       18.074542\n",
       "dtype: float64"
      ]
     },
     "execution_count": 67,
     "metadata": {},
     "output_type": "execute_result"
    }
   ],
   "source": [
    "inp1.skew()"
   ]
  },
  {
   "cell_type": "code",
   "execution_count": 68,
   "id": "fd765e13",
   "metadata": {},
   "outputs": [],
   "source": [
    "reviewskew = np.log1p(inp1['Reviews'])\n",
    "inp1['Reviews'] = reviewskew"
   ]
  },
  {
   "cell_type": "code",
   "execution_count": 69,
   "id": "b0f7ac28",
   "metadata": {},
   "outputs": [
    {
     "data": {
      "text/plain": [
       "-0.20039949659264134"
      ]
     },
     "execution_count": 69,
     "metadata": {},
     "output_type": "execute_result"
    }
   ],
   "source": [
    "reviewskew.skew()"
   ]
  },
  {
   "cell_type": "code",
   "execution_count": 70,
   "id": "8952d7b8",
   "metadata": {},
   "outputs": [
    {
     "data": {
      "text/plain": [
       "0           10000\n",
       "1          500000\n",
       "2         5000000\n",
       "4          100000\n",
       "5           50000\n",
       "           ...   \n",
       "10834         500\n",
       "10836        5000\n",
       "10837         100\n",
       "10839        1000\n",
       "10840    10000000\n",
       "Name: Installs, Length: 8496, dtype: int32"
      ]
     },
     "execution_count": 70,
     "metadata": {},
     "output_type": "execute_result"
    }
   ],
   "source": [
    "installsskew = np.log1p(inp1['Installs'])\n",
    "inp1['Installs'] "
   ]
  },
  {
   "cell_type": "code",
   "execution_count": 71,
   "id": "a6a09228",
   "metadata": {},
   "outputs": [
    {
     "data": {
      "text/plain": [
       "-0.5097286542754812"
      ]
     },
     "execution_count": 71,
     "metadata": {},
     "output_type": "execute_result"
    }
   ],
   "source": [
    "installsskew.skew()"
   ]
  },
  {
   "cell_type": "code",
   "execution_count": 72,
   "id": "b95ec430",
   "metadata": {},
   "outputs": [
    {
     "data": {
      "text/html": [
       "<div>\n",
       "<style scoped>\n",
       "    .dataframe tbody tr th:only-of-type {\n",
       "        vertical-align: middle;\n",
       "    }\n",
       "\n",
       "    .dataframe tbody tr th {\n",
       "        vertical-align: top;\n",
       "    }\n",
       "\n",
       "    .dataframe thead th {\n",
       "        text-align: right;\n",
       "    }\n",
       "</style>\n",
       "<table border=\"1\" class=\"dataframe\">\n",
       "  <thead>\n",
       "    <tr style=\"text-align: right;\">\n",
       "      <th></th>\n",
       "      <th>App</th>\n",
       "      <th>Category</th>\n",
       "      <th>Rating</th>\n",
       "      <th>Reviews</th>\n",
       "      <th>Size</th>\n",
       "      <th>Installs</th>\n",
       "      <th>Type</th>\n",
       "      <th>Price</th>\n",
       "      <th>Content Rating</th>\n",
       "      <th>Genres</th>\n",
       "      <th>Last Updated</th>\n",
       "      <th>Current Ver</th>\n",
       "      <th>Android Ver</th>\n",
       "    </tr>\n",
       "  </thead>\n",
       "  <tbody>\n",
       "    <tr>\n",
       "      <th>0</th>\n",
       "      <td>Photo Editor &amp; Candy Camera &amp; Grid &amp; ScrapBook</td>\n",
       "      <td>ART_AND_DESIGN</td>\n",
       "      <td>4.1</td>\n",
       "      <td>5.075174</td>\n",
       "      <td>19000.0</td>\n",
       "      <td>10000</td>\n",
       "      <td>Free</td>\n",
       "      <td>0</td>\n",
       "      <td>Everyone</td>\n",
       "      <td>Art &amp; Design</td>\n",
       "      <td>January 7, 2018</td>\n",
       "      <td>1.0.0</td>\n",
       "      <td>4.0.3 and up</td>\n",
       "    </tr>\n",
       "    <tr>\n",
       "      <th>1</th>\n",
       "      <td>Coloring book moana</td>\n",
       "      <td>ART_AND_DESIGN</td>\n",
       "      <td>3.9</td>\n",
       "      <td>6.875232</td>\n",
       "      <td>14000.0</td>\n",
       "      <td>500000</td>\n",
       "      <td>Free</td>\n",
       "      <td>0</td>\n",
       "      <td>Everyone</td>\n",
       "      <td>Art &amp; Design;Pretend Play</td>\n",
       "      <td>January 15, 2018</td>\n",
       "      <td>2.0.0</td>\n",
       "      <td>4.0.3 and up</td>\n",
       "    </tr>\n",
       "    <tr>\n",
       "      <th>2</th>\n",
       "      <td>U Launcher Lite – FREE Live Cool Themes, Hide ...</td>\n",
       "      <td>ART_AND_DESIGN</td>\n",
       "      <td>4.7</td>\n",
       "      <td>11.379520</td>\n",
       "      <td>8700.0</td>\n",
       "      <td>5000000</td>\n",
       "      <td>Free</td>\n",
       "      <td>0</td>\n",
       "      <td>Everyone</td>\n",
       "      <td>Art &amp; Design</td>\n",
       "      <td>August 1, 2018</td>\n",
       "      <td>1.2.4</td>\n",
       "      <td>4.0.3 and up</td>\n",
       "    </tr>\n",
       "    <tr>\n",
       "      <th>4</th>\n",
       "      <td>Pixel Draw - Number Art Coloring Book</td>\n",
       "      <td>ART_AND_DESIGN</td>\n",
       "      <td>4.3</td>\n",
       "      <td>6.875232</td>\n",
       "      <td>2800.0</td>\n",
       "      <td>100000</td>\n",
       "      <td>Free</td>\n",
       "      <td>0</td>\n",
       "      <td>Everyone</td>\n",
       "      <td>Art &amp; Design;Creativity</td>\n",
       "      <td>June 20, 2018</td>\n",
       "      <td>1.1</td>\n",
       "      <td>4.4 and up</td>\n",
       "    </tr>\n",
       "    <tr>\n",
       "      <th>5</th>\n",
       "      <td>Paper flowers instructions</td>\n",
       "      <td>ART_AND_DESIGN</td>\n",
       "      <td>4.4</td>\n",
       "      <td>5.123964</td>\n",
       "      <td>5600.0</td>\n",
       "      <td>50000</td>\n",
       "      <td>Free</td>\n",
       "      <td>0</td>\n",
       "      <td>Everyone</td>\n",
       "      <td>Art &amp; Design</td>\n",
       "      <td>March 26, 2017</td>\n",
       "      <td>1.0</td>\n",
       "      <td>2.3 and up</td>\n",
       "    </tr>\n",
       "  </tbody>\n",
       "</table>\n",
       "</div>"
      ],
      "text/plain": [
       "                                                 App        Category  Rating  \\\n",
       "0     Photo Editor & Candy Camera & Grid & ScrapBook  ART_AND_DESIGN     4.1   \n",
       "1                                Coloring book moana  ART_AND_DESIGN     3.9   \n",
       "2  U Launcher Lite – FREE Live Cool Themes, Hide ...  ART_AND_DESIGN     4.7   \n",
       "4              Pixel Draw - Number Art Coloring Book  ART_AND_DESIGN     4.3   \n",
       "5                         Paper flowers instructions  ART_AND_DESIGN     4.4   \n",
       "\n",
       "     Reviews     Size  Installs  Type  Price Content Rating  \\\n",
       "0   5.075174  19000.0     10000  Free      0       Everyone   \n",
       "1   6.875232  14000.0    500000  Free      0       Everyone   \n",
       "2  11.379520   8700.0   5000000  Free      0       Everyone   \n",
       "4   6.875232   2800.0    100000  Free      0       Everyone   \n",
       "5   5.123964   5600.0     50000  Free      0       Everyone   \n",
       "\n",
       "                      Genres      Last Updated Current Ver   Android Ver  \n",
       "0               Art & Design   January 7, 2018       1.0.0  4.0.3 and up  \n",
       "1  Art & Design;Pretend Play  January 15, 2018       2.0.0  4.0.3 and up  \n",
       "2               Art & Design    August 1, 2018       1.2.4  4.0.3 and up  \n",
       "4    Art & Design;Creativity     June 20, 2018         1.1    4.4 and up  \n",
       "5               Art & Design    March 26, 2017         1.0    2.3 and up  "
      ]
     },
     "execution_count": 72,
     "metadata": {},
     "output_type": "execute_result"
    }
   ],
   "source": [
    "inp1.head()"
   ]
  },
  {
   "cell_type": "markdown",
   "id": "0ea9b551",
   "metadata": {},
   "source": [
    "### 8(2) Drop columns App, Last Updated, Current Ver, and Android Ver. These variables are not useful for our task."
   ]
  },
  {
   "cell_type": "code",
   "execution_count": 73,
   "id": "62c09117",
   "metadata": {},
   "outputs": [],
   "source": [
    "inp1.drop([\"Last Updated\",\"Current Ver\",\"Android Ver\",\"App\",\"Type\"],axis=1,inplace=True)"
   ]
  },
  {
   "cell_type": "code",
   "execution_count": 74,
   "id": "999d775d",
   "metadata": {},
   "outputs": [
    {
     "data": {
      "text/html": [
       "<div>\n",
       "<style scoped>\n",
       "    .dataframe tbody tr th:only-of-type {\n",
       "        vertical-align: middle;\n",
       "    }\n",
       "\n",
       "    .dataframe tbody tr th {\n",
       "        vertical-align: top;\n",
       "    }\n",
       "\n",
       "    .dataframe thead th {\n",
       "        text-align: right;\n",
       "    }\n",
       "</style>\n",
       "<table border=\"1\" class=\"dataframe\">\n",
       "  <thead>\n",
       "    <tr style=\"text-align: right;\">\n",
       "      <th></th>\n",
       "      <th>Category</th>\n",
       "      <th>Rating</th>\n",
       "      <th>Reviews</th>\n",
       "      <th>Size</th>\n",
       "      <th>Installs</th>\n",
       "      <th>Price</th>\n",
       "      <th>Content Rating</th>\n",
       "      <th>Genres</th>\n",
       "    </tr>\n",
       "  </thead>\n",
       "  <tbody>\n",
       "    <tr>\n",
       "      <th>0</th>\n",
       "      <td>ART_AND_DESIGN</td>\n",
       "      <td>4.1</td>\n",
       "      <td>5.075174</td>\n",
       "      <td>19000.0</td>\n",
       "      <td>10000</td>\n",
       "      <td>0</td>\n",
       "      <td>Everyone</td>\n",
       "      <td>Art &amp; Design</td>\n",
       "    </tr>\n",
       "    <tr>\n",
       "      <th>1</th>\n",
       "      <td>ART_AND_DESIGN</td>\n",
       "      <td>3.9</td>\n",
       "      <td>6.875232</td>\n",
       "      <td>14000.0</td>\n",
       "      <td>500000</td>\n",
       "      <td>0</td>\n",
       "      <td>Everyone</td>\n",
       "      <td>Art &amp; Design;Pretend Play</td>\n",
       "    </tr>\n",
       "    <tr>\n",
       "      <th>2</th>\n",
       "      <td>ART_AND_DESIGN</td>\n",
       "      <td>4.7</td>\n",
       "      <td>11.379520</td>\n",
       "      <td>8700.0</td>\n",
       "      <td>5000000</td>\n",
       "      <td>0</td>\n",
       "      <td>Everyone</td>\n",
       "      <td>Art &amp; Design</td>\n",
       "    </tr>\n",
       "    <tr>\n",
       "      <th>4</th>\n",
       "      <td>ART_AND_DESIGN</td>\n",
       "      <td>4.3</td>\n",
       "      <td>6.875232</td>\n",
       "      <td>2800.0</td>\n",
       "      <td>100000</td>\n",
       "      <td>0</td>\n",
       "      <td>Everyone</td>\n",
       "      <td>Art &amp; Design;Creativity</td>\n",
       "    </tr>\n",
       "    <tr>\n",
       "      <th>5</th>\n",
       "      <td>ART_AND_DESIGN</td>\n",
       "      <td>4.4</td>\n",
       "      <td>5.123964</td>\n",
       "      <td>5600.0</td>\n",
       "      <td>50000</td>\n",
       "      <td>0</td>\n",
       "      <td>Everyone</td>\n",
       "      <td>Art &amp; Design</td>\n",
       "    </tr>\n",
       "  </tbody>\n",
       "</table>\n",
       "</div>"
      ],
      "text/plain": [
       "         Category  Rating    Reviews     Size  Installs  Price Content Rating  \\\n",
       "0  ART_AND_DESIGN     4.1   5.075174  19000.0     10000      0       Everyone   \n",
       "1  ART_AND_DESIGN     3.9   6.875232  14000.0    500000      0       Everyone   \n",
       "2  ART_AND_DESIGN     4.7  11.379520   8700.0   5000000      0       Everyone   \n",
       "4  ART_AND_DESIGN     4.3   6.875232   2800.0    100000      0       Everyone   \n",
       "5  ART_AND_DESIGN     4.4   5.123964   5600.0     50000      0       Everyone   \n",
       "\n",
       "                      Genres  \n",
       "0               Art & Design  \n",
       "1  Art & Design;Pretend Play  \n",
       "2               Art & Design  \n",
       "4    Art & Design;Creativity  \n",
       "5               Art & Design  "
      ]
     },
     "execution_count": 74,
     "metadata": {},
     "output_type": "execute_result"
    }
   ],
   "source": [
    "inp1.head()"
   ]
  },
  {
   "cell_type": "code",
   "execution_count": 75,
   "id": "c5bd36d5",
   "metadata": {},
   "outputs": [
    {
     "data": {
      "text/plain": [
       "(8496, 8)"
      ]
     },
     "execution_count": 75,
     "metadata": {},
     "output_type": "execute_result"
    }
   ],
   "source": [
    "inp1.shape"
   ]
  },
  {
   "cell_type": "markdown",
   "id": "b2e93e63",
   "metadata": {},
   "source": [
    "### 8(3) Get dummy columns for Category, Genres, and Content Rating. \n",
    "### This needs to be done as the models do not understand categorical data, and all data should be numeric. \n",
    "### Dummy encoding is one way to convert character fields to numeric.\n",
    "### Name of dataframe should be inp2."
   ]
  },
  {
   "cell_type": "code",
   "execution_count": 76,
   "id": "2844639e",
   "metadata": {},
   "outputs": [],
   "source": [
    "inp2 = inp1"
   ]
  },
  {
   "cell_type": "code",
   "execution_count": 77,
   "id": "2199fcad",
   "metadata": {},
   "outputs": [
    {
     "data": {
      "text/html": [
       "<div>\n",
       "<style scoped>\n",
       "    .dataframe tbody tr th:only-of-type {\n",
       "        vertical-align: middle;\n",
       "    }\n",
       "\n",
       "    .dataframe tbody tr th {\n",
       "        vertical-align: top;\n",
       "    }\n",
       "\n",
       "    .dataframe thead th {\n",
       "        text-align: right;\n",
       "    }\n",
       "</style>\n",
       "<table border=\"1\" class=\"dataframe\">\n",
       "  <thead>\n",
       "    <tr style=\"text-align: right;\">\n",
       "      <th></th>\n",
       "      <th>Category</th>\n",
       "      <th>Rating</th>\n",
       "      <th>Reviews</th>\n",
       "      <th>Size</th>\n",
       "      <th>Installs</th>\n",
       "      <th>Price</th>\n",
       "      <th>Content Rating</th>\n",
       "      <th>Genres</th>\n",
       "    </tr>\n",
       "  </thead>\n",
       "  <tbody>\n",
       "    <tr>\n",
       "      <th>0</th>\n",
       "      <td>ART_AND_DESIGN</td>\n",
       "      <td>4.1</td>\n",
       "      <td>5.075174</td>\n",
       "      <td>19000.0</td>\n",
       "      <td>10000</td>\n",
       "      <td>0</td>\n",
       "      <td>Everyone</td>\n",
       "      <td>Art &amp; Design</td>\n",
       "    </tr>\n",
       "    <tr>\n",
       "      <th>1</th>\n",
       "      <td>ART_AND_DESIGN</td>\n",
       "      <td>3.9</td>\n",
       "      <td>6.875232</td>\n",
       "      <td>14000.0</td>\n",
       "      <td>500000</td>\n",
       "      <td>0</td>\n",
       "      <td>Everyone</td>\n",
       "      <td>Art &amp; Design;Pretend Play</td>\n",
       "    </tr>\n",
       "    <tr>\n",
       "      <th>2</th>\n",
       "      <td>ART_AND_DESIGN</td>\n",
       "      <td>4.7</td>\n",
       "      <td>11.379520</td>\n",
       "      <td>8700.0</td>\n",
       "      <td>5000000</td>\n",
       "      <td>0</td>\n",
       "      <td>Everyone</td>\n",
       "      <td>Art &amp; Design</td>\n",
       "    </tr>\n",
       "    <tr>\n",
       "      <th>4</th>\n",
       "      <td>ART_AND_DESIGN</td>\n",
       "      <td>4.3</td>\n",
       "      <td>6.875232</td>\n",
       "      <td>2800.0</td>\n",
       "      <td>100000</td>\n",
       "      <td>0</td>\n",
       "      <td>Everyone</td>\n",
       "      <td>Art &amp; Design;Creativity</td>\n",
       "    </tr>\n",
       "    <tr>\n",
       "      <th>5</th>\n",
       "      <td>ART_AND_DESIGN</td>\n",
       "      <td>4.4</td>\n",
       "      <td>5.123964</td>\n",
       "      <td>5600.0</td>\n",
       "      <td>50000</td>\n",
       "      <td>0</td>\n",
       "      <td>Everyone</td>\n",
       "      <td>Art &amp; Design</td>\n",
       "    </tr>\n",
       "  </tbody>\n",
       "</table>\n",
       "</div>"
      ],
      "text/plain": [
       "         Category  Rating    Reviews     Size  Installs  Price Content Rating  \\\n",
       "0  ART_AND_DESIGN     4.1   5.075174  19000.0     10000      0       Everyone   \n",
       "1  ART_AND_DESIGN     3.9   6.875232  14000.0    500000      0       Everyone   \n",
       "2  ART_AND_DESIGN     4.7  11.379520   8700.0   5000000      0       Everyone   \n",
       "4  ART_AND_DESIGN     4.3   6.875232   2800.0    100000      0       Everyone   \n",
       "5  ART_AND_DESIGN     4.4   5.123964   5600.0     50000      0       Everyone   \n",
       "\n",
       "                      Genres  \n",
       "0               Art & Design  \n",
       "1  Art & Design;Pretend Play  \n",
       "2               Art & Design  \n",
       "4    Art & Design;Creativity  \n",
       "5               Art & Design  "
      ]
     },
     "execution_count": 77,
     "metadata": {},
     "output_type": "execute_result"
    }
   ],
   "source": [
    "inp2.head()"
   ]
  },
  {
   "cell_type": "code",
   "execution_count": 78,
   "id": "7a3ab6ee",
   "metadata": {},
   "outputs": [
    {
     "data": {
      "text/plain": [
       "array(['ART_AND_DESIGN', 'AUTO_AND_VEHICLES', 'BEAUTY',\n",
       "       'BOOKS_AND_REFERENCE', 'BUSINESS', 'COMICS', 'COMMUNICATION',\n",
       "       'DATING', 'EDUCATION', 'ENTERTAINMENT', 'EVENTS', 'FINANCE',\n",
       "       'FOOD_AND_DRINK', 'HEALTH_AND_FITNESS', 'HOUSE_AND_HOME',\n",
       "       'LIBRARIES_AND_DEMO', 'LIFESTYLE', 'GAME', 'FAMILY', 'MEDICAL',\n",
       "       'SOCIAL', 'SHOPPING', 'PHOTOGRAPHY', 'SPORTS', 'TRAVEL_AND_LOCAL',\n",
       "       'TOOLS', 'PERSONALIZATION', 'PRODUCTIVITY', 'PARENTING', 'WEATHER',\n",
       "       'VIDEO_PLAYERS', 'NEWS_AND_MAGAZINES', 'MAPS_AND_NAVIGATION'],\n",
       "      dtype=object)"
      ]
     },
     "execution_count": 78,
     "metadata": {},
     "output_type": "execute_result"
    }
   ],
   "source": [
    "###  Dummy EnCoding on Column \"Category\"\n",
    "#get unique values in Column \"Category\"\n",
    "inp2.Category.unique()"
   ]
  },
  {
   "cell_type": "code",
   "execution_count": 79,
   "id": "2ce83a44",
   "metadata": {},
   "outputs": [
    {
     "data": {
      "text/html": [
       "<div>\n",
       "<style scoped>\n",
       "    .dataframe tbody tr th:only-of-type {\n",
       "        vertical-align: middle;\n",
       "    }\n",
       "\n",
       "    .dataframe tbody tr th {\n",
       "        vertical-align: top;\n",
       "    }\n",
       "\n",
       "    .dataframe thead th {\n",
       "        text-align: right;\n",
       "    }\n",
       "</style>\n",
       "<table border=\"1\" class=\"dataframe\">\n",
       "  <thead>\n",
       "    <tr style=\"text-align: right;\">\n",
       "      <th></th>\n",
       "      <th>Rating</th>\n",
       "      <th>Reviews</th>\n",
       "      <th>Size</th>\n",
       "      <th>Installs</th>\n",
       "      <th>Price</th>\n",
       "      <th>Content Rating</th>\n",
       "      <th>Genres</th>\n",
       "      <th>Category_ART_AND_DESIGN</th>\n",
       "      <th>Category_AUTO_AND_VEHICLES</th>\n",
       "      <th>Category_BEAUTY</th>\n",
       "      <th>...</th>\n",
       "      <th>Category_PERSONALIZATION</th>\n",
       "      <th>Category_PHOTOGRAPHY</th>\n",
       "      <th>Category_PRODUCTIVITY</th>\n",
       "      <th>Category_SHOPPING</th>\n",
       "      <th>Category_SOCIAL</th>\n",
       "      <th>Category_SPORTS</th>\n",
       "      <th>Category_TOOLS</th>\n",
       "      <th>Category_TRAVEL_AND_LOCAL</th>\n",
       "      <th>Category_VIDEO_PLAYERS</th>\n",
       "      <th>Category_WEATHER</th>\n",
       "    </tr>\n",
       "  </thead>\n",
       "  <tbody>\n",
       "    <tr>\n",
       "      <th>0</th>\n",
       "      <td>4.1</td>\n",
       "      <td>5.075174</td>\n",
       "      <td>19000.0</td>\n",
       "      <td>10000</td>\n",
       "      <td>0</td>\n",
       "      <td>Everyone</td>\n",
       "      <td>Art &amp; Design</td>\n",
       "      <td>1</td>\n",
       "      <td>0</td>\n",
       "      <td>0</td>\n",
       "      <td>...</td>\n",
       "      <td>0</td>\n",
       "      <td>0</td>\n",
       "      <td>0</td>\n",
       "      <td>0</td>\n",
       "      <td>0</td>\n",
       "      <td>0</td>\n",
       "      <td>0</td>\n",
       "      <td>0</td>\n",
       "      <td>0</td>\n",
       "      <td>0</td>\n",
       "    </tr>\n",
       "    <tr>\n",
       "      <th>1</th>\n",
       "      <td>3.9</td>\n",
       "      <td>6.875232</td>\n",
       "      <td>14000.0</td>\n",
       "      <td>500000</td>\n",
       "      <td>0</td>\n",
       "      <td>Everyone</td>\n",
       "      <td>Art &amp; Design;Pretend Play</td>\n",
       "      <td>1</td>\n",
       "      <td>0</td>\n",
       "      <td>0</td>\n",
       "      <td>...</td>\n",
       "      <td>0</td>\n",
       "      <td>0</td>\n",
       "      <td>0</td>\n",
       "      <td>0</td>\n",
       "      <td>0</td>\n",
       "      <td>0</td>\n",
       "      <td>0</td>\n",
       "      <td>0</td>\n",
       "      <td>0</td>\n",
       "      <td>0</td>\n",
       "    </tr>\n",
       "    <tr>\n",
       "      <th>2</th>\n",
       "      <td>4.7</td>\n",
       "      <td>11.379520</td>\n",
       "      <td>8700.0</td>\n",
       "      <td>5000000</td>\n",
       "      <td>0</td>\n",
       "      <td>Everyone</td>\n",
       "      <td>Art &amp; Design</td>\n",
       "      <td>1</td>\n",
       "      <td>0</td>\n",
       "      <td>0</td>\n",
       "      <td>...</td>\n",
       "      <td>0</td>\n",
       "      <td>0</td>\n",
       "      <td>0</td>\n",
       "      <td>0</td>\n",
       "      <td>0</td>\n",
       "      <td>0</td>\n",
       "      <td>0</td>\n",
       "      <td>0</td>\n",
       "      <td>0</td>\n",
       "      <td>0</td>\n",
       "    </tr>\n",
       "    <tr>\n",
       "      <th>4</th>\n",
       "      <td>4.3</td>\n",
       "      <td>6.875232</td>\n",
       "      <td>2800.0</td>\n",
       "      <td>100000</td>\n",
       "      <td>0</td>\n",
       "      <td>Everyone</td>\n",
       "      <td>Art &amp; Design;Creativity</td>\n",
       "      <td>1</td>\n",
       "      <td>0</td>\n",
       "      <td>0</td>\n",
       "      <td>...</td>\n",
       "      <td>0</td>\n",
       "      <td>0</td>\n",
       "      <td>0</td>\n",
       "      <td>0</td>\n",
       "      <td>0</td>\n",
       "      <td>0</td>\n",
       "      <td>0</td>\n",
       "      <td>0</td>\n",
       "      <td>0</td>\n",
       "      <td>0</td>\n",
       "    </tr>\n",
       "    <tr>\n",
       "      <th>5</th>\n",
       "      <td>4.4</td>\n",
       "      <td>5.123964</td>\n",
       "      <td>5600.0</td>\n",
       "      <td>50000</td>\n",
       "      <td>0</td>\n",
       "      <td>Everyone</td>\n",
       "      <td>Art &amp; Design</td>\n",
       "      <td>1</td>\n",
       "      <td>0</td>\n",
       "      <td>0</td>\n",
       "      <td>...</td>\n",
       "      <td>0</td>\n",
       "      <td>0</td>\n",
       "      <td>0</td>\n",
       "      <td>0</td>\n",
       "      <td>0</td>\n",
       "      <td>0</td>\n",
       "      <td>0</td>\n",
       "      <td>0</td>\n",
       "      <td>0</td>\n",
       "      <td>0</td>\n",
       "    </tr>\n",
       "  </tbody>\n",
       "</table>\n",
       "<p>5 rows × 40 columns</p>\n",
       "</div>"
      ],
      "text/plain": [
       "   Rating    Reviews     Size  Installs  Price Content Rating  \\\n",
       "0     4.1   5.075174  19000.0     10000      0       Everyone   \n",
       "1     3.9   6.875232  14000.0    500000      0       Everyone   \n",
       "2     4.7  11.379520   8700.0   5000000      0       Everyone   \n",
       "4     4.3   6.875232   2800.0    100000      0       Everyone   \n",
       "5     4.4   5.123964   5600.0     50000      0       Everyone   \n",
       "\n",
       "                      Genres  Category_ART_AND_DESIGN  \\\n",
       "0               Art & Design                        1   \n",
       "1  Art & Design;Pretend Play                        1   \n",
       "2               Art & Design                        1   \n",
       "4    Art & Design;Creativity                        1   \n",
       "5               Art & Design                        1   \n",
       "\n",
       "   Category_AUTO_AND_VEHICLES  Category_BEAUTY  ...  Category_PERSONALIZATION  \\\n",
       "0                           0                0  ...                         0   \n",
       "1                           0                0  ...                         0   \n",
       "2                           0                0  ...                         0   \n",
       "4                           0                0  ...                         0   \n",
       "5                           0                0  ...                         0   \n",
       "\n",
       "   Category_PHOTOGRAPHY  Category_PRODUCTIVITY  Category_SHOPPING  \\\n",
       "0                     0                      0                  0   \n",
       "1                     0                      0                  0   \n",
       "2                     0                      0                  0   \n",
       "4                     0                      0                  0   \n",
       "5                     0                      0                  0   \n",
       "\n",
       "   Category_SOCIAL  Category_SPORTS  Category_TOOLS  \\\n",
       "0                0                0               0   \n",
       "1                0                0               0   \n",
       "2                0                0               0   \n",
       "4                0                0               0   \n",
       "5                0                0               0   \n",
       "\n",
       "   Category_TRAVEL_AND_LOCAL  Category_VIDEO_PLAYERS  Category_WEATHER  \n",
       "0                          0                       0                 0  \n",
       "1                          0                       0                 0  \n",
       "2                          0                       0                 0  \n",
       "4                          0                       0                 0  \n",
       "5                          0                       0                 0  \n",
       "\n",
       "[5 rows x 40 columns]"
      ]
     },
     "execution_count": 79,
     "metadata": {},
     "output_type": "execute_result"
    }
   ],
   "source": [
    "inp2.Category = pd.Categorical(inp2.Category)\n",
    "\n",
    "x = inp2[['Category']]\n",
    "del inp2['Category']\n",
    "\n",
    "dummies = pd.get_dummies(x, prefix = 'Category')\n",
    "inp2 = pd.concat([inp2,dummies], axis=1)\n",
    "inp2.head()"
   ]
  },
  {
   "cell_type": "code",
   "execution_count": 80,
   "id": "b16d5a9f",
   "metadata": {},
   "outputs": [
    {
     "data": {
      "text/plain": [
       "(8496, 40)"
      ]
     },
     "execution_count": 80,
     "metadata": {},
     "output_type": "execute_result"
    }
   ],
   "source": [
    "inp2.shape"
   ]
  },
  {
   "cell_type": "code",
   "execution_count": 81,
   "id": "dabd5b0c",
   "metadata": {},
   "outputs": [
    {
     "data": {
      "text/plain": [
       "array(['Art & Design', 'Art & Design;Pretend Play',\n",
       "       'Art & Design;Creativity', 'Auto & Vehicles', 'Beauty',\n",
       "       'Books & Reference', 'Business', 'Comics', 'Comics;Creativity',\n",
       "       'Communication', 'Dating', 'Education', 'Education;Creativity',\n",
       "       'Education;Education', 'Education;Music & Video',\n",
       "       'Education;Action & Adventure', 'Education;Pretend Play',\n",
       "       'Education;Brain Games', 'Entertainment',\n",
       "       'Entertainment;Brain Games', 'Entertainment;Creativity',\n",
       "       'Entertainment;Music & Video', 'Events', 'Finance', 'Food & Drink',\n",
       "       'Health & Fitness', 'House & Home', 'Libraries & Demo',\n",
       "       'Lifestyle', 'Lifestyle;Pretend Play', 'Card', 'Casual', 'Puzzle',\n",
       "       'Action', 'Arcade', 'Word', 'Racing', 'Casual;Creativity',\n",
       "       'Sports', 'Board', 'Simulation', 'Role Playing', 'Adventure',\n",
       "       'Strategy', 'Simulation;Education', 'Action;Action & Adventure',\n",
       "       'Trivia', 'Casual;Brain Games', 'Simulation;Action & Adventure',\n",
       "       'Educational;Creativity', 'Puzzle;Brain Games',\n",
       "       'Educational;Education', 'Card;Brain Games',\n",
       "       'Educational;Brain Games', 'Educational;Pretend Play',\n",
       "       'Casual;Action & Adventure', 'Entertainment;Education',\n",
       "       'Casual;Education', 'Casual;Pretend Play', 'Music;Music & Video',\n",
       "       'Racing;Action & Adventure', 'Arcade;Pretend Play',\n",
       "       'Adventure;Action & Adventure', 'Role Playing;Action & Adventure',\n",
       "       'Simulation;Pretend Play', 'Puzzle;Creativity',\n",
       "       'Sports;Action & Adventure', 'Educational;Action & Adventure',\n",
       "       'Arcade;Action & Adventure', 'Entertainment;Action & Adventure',\n",
       "       'Puzzle;Action & Adventure', 'Strategy;Action & Adventure',\n",
       "       'Music & Audio;Music & Video', 'Health & Fitness;Education',\n",
       "       'Adventure;Education', 'Board;Brain Games',\n",
       "       'Board;Action & Adventure', 'Board;Pretend Play',\n",
       "       'Casual;Music & Video', 'Role Playing;Pretend Play',\n",
       "       'Entertainment;Pretend Play', 'Video Players & Editors;Creativity',\n",
       "       'Card;Action & Adventure', 'Medical', 'Social', 'Shopping',\n",
       "       'Photography', 'Travel & Local',\n",
       "       'Travel & Local;Action & Adventure', 'Tools', 'Tools;Education',\n",
       "       'Personalization', 'Productivity', 'Parenting',\n",
       "       'Parenting;Music & Video', 'Parenting;Brain Games',\n",
       "       'Parenting;Education', 'Weather', 'Video Players & Editors',\n",
       "       'Video Players & Editors;Music & Video', 'News & Magazines',\n",
       "       'Maps & Navigation', 'Health & Fitness;Action & Adventure',\n",
       "       'Music', 'Educational', 'Casino', 'Adventure;Brain Games',\n",
       "       'Lifestyle;Education', 'Books & Reference;Education',\n",
       "       'Puzzle;Education', 'Role Playing;Brain Games',\n",
       "       'Strategy;Education', 'Racing;Pretend Play',\n",
       "       'Communication;Creativity', 'Strategy;Creativity'], dtype=object)"
      ]
     },
     "execution_count": 81,
     "metadata": {},
     "output_type": "execute_result"
    }
   ],
   "source": [
    "### Dummy EnCoding on Column \"Genres\"\n",
    "#get unique values in Column \"Genres\"\n",
    "inp2[\"Genres\"].unique()"
   ]
  },
  {
   "cell_type": "code",
   "execution_count": 82,
   "id": "026e4123",
   "metadata": {},
   "outputs": [],
   "source": [
    "lists = []\n",
    "for i in inp2.Genres.value_counts().index:\n",
    "    if inp2.Genres.value_counts()[i]<20:\n",
    "        lists.append(i)\n",
    "inp2.Genres = ['Other' if i in lists else i for i in inp2.Genres] "
   ]
  },
  {
   "cell_type": "code",
   "execution_count": 83,
   "id": "81ecec71",
   "metadata": {},
   "outputs": [
    {
     "data": {
      "text/plain": [
       "array(['Art & Design', 'Other', 'Auto & Vehicles', 'Beauty',\n",
       "       'Books & Reference', 'Business', 'Comics', 'Communication',\n",
       "       'Dating', 'Education', 'Education;Education',\n",
       "       'Education;Pretend Play', 'Entertainment',\n",
       "       'Entertainment;Music & Video', 'Events', 'Finance', 'Food & Drink',\n",
       "       'Health & Fitness', 'House & Home', 'Libraries & Demo',\n",
       "       'Lifestyle', 'Card', 'Casual', 'Puzzle', 'Action', 'Arcade',\n",
       "       'Word', 'Racing', 'Sports', 'Board', 'Simulation', 'Role Playing',\n",
       "       'Adventure', 'Strategy', 'Trivia', 'Educational;Education',\n",
       "       'Casual;Pretend Play', 'Medical', 'Social', 'Shopping',\n",
       "       'Photography', 'Travel & Local', 'Tools', 'Personalization',\n",
       "       'Productivity', 'Parenting', 'Weather', 'Video Players & Editors',\n",
       "       'News & Magazines', 'Maps & Navigation', 'Educational', 'Casino'],\n",
       "      dtype=object)"
      ]
     },
     "execution_count": 83,
     "metadata": {},
     "output_type": "execute_result"
    }
   ],
   "source": [
    "inp2[\"Genres\"].unique()"
   ]
  },
  {
   "cell_type": "code",
   "execution_count": 84,
   "id": "3a0f3eec",
   "metadata": {},
   "outputs": [],
   "source": [
    "inp2.Genres = pd.Categorical(inp2['Genres'])\n",
    "x = inp2[[\"Genres\"]]\n",
    "del inp2['Genres']\n",
    "dummies = pd.get_dummies(x, prefix = 'Genres')\n",
    "inp2 = pd.concat([inp2,dummies], axis=1)"
   ]
  },
  {
   "cell_type": "code",
   "execution_count": 85,
   "id": "4bff9fd8",
   "metadata": {},
   "outputs": [
    {
     "data": {
      "text/html": [
       "<div>\n",
       "<style scoped>\n",
       "    .dataframe tbody tr th:only-of-type {\n",
       "        vertical-align: middle;\n",
       "    }\n",
       "\n",
       "    .dataframe tbody tr th {\n",
       "        vertical-align: top;\n",
       "    }\n",
       "\n",
       "    .dataframe thead th {\n",
       "        text-align: right;\n",
       "    }\n",
       "</style>\n",
       "<table border=\"1\" class=\"dataframe\">\n",
       "  <thead>\n",
       "    <tr style=\"text-align: right;\">\n",
       "      <th></th>\n",
       "      <th>Rating</th>\n",
       "      <th>Reviews</th>\n",
       "      <th>Size</th>\n",
       "      <th>Installs</th>\n",
       "      <th>Price</th>\n",
       "      <th>Content Rating</th>\n",
       "      <th>Category_ART_AND_DESIGN</th>\n",
       "      <th>Category_AUTO_AND_VEHICLES</th>\n",
       "      <th>Category_BEAUTY</th>\n",
       "      <th>Category_BOOKS_AND_REFERENCE</th>\n",
       "      <th>...</th>\n",
       "      <th>Genres_Simulation</th>\n",
       "      <th>Genres_Social</th>\n",
       "      <th>Genres_Sports</th>\n",
       "      <th>Genres_Strategy</th>\n",
       "      <th>Genres_Tools</th>\n",
       "      <th>Genres_Travel &amp; Local</th>\n",
       "      <th>Genres_Trivia</th>\n",
       "      <th>Genres_Video Players &amp; Editors</th>\n",
       "      <th>Genres_Weather</th>\n",
       "      <th>Genres_Word</th>\n",
       "    </tr>\n",
       "  </thead>\n",
       "  <tbody>\n",
       "    <tr>\n",
       "      <th>0</th>\n",
       "      <td>4.1</td>\n",
       "      <td>5.075174</td>\n",
       "      <td>19000.0</td>\n",
       "      <td>10000</td>\n",
       "      <td>0</td>\n",
       "      <td>Everyone</td>\n",
       "      <td>1</td>\n",
       "      <td>0</td>\n",
       "      <td>0</td>\n",
       "      <td>0</td>\n",
       "      <td>...</td>\n",
       "      <td>0</td>\n",
       "      <td>0</td>\n",
       "      <td>0</td>\n",
       "      <td>0</td>\n",
       "      <td>0</td>\n",
       "      <td>0</td>\n",
       "      <td>0</td>\n",
       "      <td>0</td>\n",
       "      <td>0</td>\n",
       "      <td>0</td>\n",
       "    </tr>\n",
       "    <tr>\n",
       "      <th>1</th>\n",
       "      <td>3.9</td>\n",
       "      <td>6.875232</td>\n",
       "      <td>14000.0</td>\n",
       "      <td>500000</td>\n",
       "      <td>0</td>\n",
       "      <td>Everyone</td>\n",
       "      <td>1</td>\n",
       "      <td>0</td>\n",
       "      <td>0</td>\n",
       "      <td>0</td>\n",
       "      <td>...</td>\n",
       "      <td>0</td>\n",
       "      <td>0</td>\n",
       "      <td>0</td>\n",
       "      <td>0</td>\n",
       "      <td>0</td>\n",
       "      <td>0</td>\n",
       "      <td>0</td>\n",
       "      <td>0</td>\n",
       "      <td>0</td>\n",
       "      <td>0</td>\n",
       "    </tr>\n",
       "    <tr>\n",
       "      <th>2</th>\n",
       "      <td>4.7</td>\n",
       "      <td>11.379520</td>\n",
       "      <td>8700.0</td>\n",
       "      <td>5000000</td>\n",
       "      <td>0</td>\n",
       "      <td>Everyone</td>\n",
       "      <td>1</td>\n",
       "      <td>0</td>\n",
       "      <td>0</td>\n",
       "      <td>0</td>\n",
       "      <td>...</td>\n",
       "      <td>0</td>\n",
       "      <td>0</td>\n",
       "      <td>0</td>\n",
       "      <td>0</td>\n",
       "      <td>0</td>\n",
       "      <td>0</td>\n",
       "      <td>0</td>\n",
       "      <td>0</td>\n",
       "      <td>0</td>\n",
       "      <td>0</td>\n",
       "    </tr>\n",
       "    <tr>\n",
       "      <th>4</th>\n",
       "      <td>4.3</td>\n",
       "      <td>6.875232</td>\n",
       "      <td>2800.0</td>\n",
       "      <td>100000</td>\n",
       "      <td>0</td>\n",
       "      <td>Everyone</td>\n",
       "      <td>1</td>\n",
       "      <td>0</td>\n",
       "      <td>0</td>\n",
       "      <td>0</td>\n",
       "      <td>...</td>\n",
       "      <td>0</td>\n",
       "      <td>0</td>\n",
       "      <td>0</td>\n",
       "      <td>0</td>\n",
       "      <td>0</td>\n",
       "      <td>0</td>\n",
       "      <td>0</td>\n",
       "      <td>0</td>\n",
       "      <td>0</td>\n",
       "      <td>0</td>\n",
       "    </tr>\n",
       "    <tr>\n",
       "      <th>5</th>\n",
       "      <td>4.4</td>\n",
       "      <td>5.123964</td>\n",
       "      <td>5600.0</td>\n",
       "      <td>50000</td>\n",
       "      <td>0</td>\n",
       "      <td>Everyone</td>\n",
       "      <td>1</td>\n",
       "      <td>0</td>\n",
       "      <td>0</td>\n",
       "      <td>0</td>\n",
       "      <td>...</td>\n",
       "      <td>0</td>\n",
       "      <td>0</td>\n",
       "      <td>0</td>\n",
       "      <td>0</td>\n",
       "      <td>0</td>\n",
       "      <td>0</td>\n",
       "      <td>0</td>\n",
       "      <td>0</td>\n",
       "      <td>0</td>\n",
       "      <td>0</td>\n",
       "    </tr>\n",
       "  </tbody>\n",
       "</table>\n",
       "<p>5 rows × 91 columns</p>\n",
       "</div>"
      ],
      "text/plain": [
       "   Rating    Reviews     Size  Installs  Price Content Rating  \\\n",
       "0     4.1   5.075174  19000.0     10000      0       Everyone   \n",
       "1     3.9   6.875232  14000.0    500000      0       Everyone   \n",
       "2     4.7  11.379520   8700.0   5000000      0       Everyone   \n",
       "4     4.3   6.875232   2800.0    100000      0       Everyone   \n",
       "5     4.4   5.123964   5600.0     50000      0       Everyone   \n",
       "\n",
       "   Category_ART_AND_DESIGN  Category_AUTO_AND_VEHICLES  Category_BEAUTY  \\\n",
       "0                        1                           0                0   \n",
       "1                        1                           0                0   \n",
       "2                        1                           0                0   \n",
       "4                        1                           0                0   \n",
       "5                        1                           0                0   \n",
       "\n",
       "   Category_BOOKS_AND_REFERENCE  ...  Genres_Simulation  Genres_Social  \\\n",
       "0                             0  ...                  0              0   \n",
       "1                             0  ...                  0              0   \n",
       "2                             0  ...                  0              0   \n",
       "4                             0  ...                  0              0   \n",
       "5                             0  ...                  0              0   \n",
       "\n",
       "   Genres_Sports  Genres_Strategy  Genres_Tools  Genres_Travel & Local  \\\n",
       "0              0                0             0                      0   \n",
       "1              0                0             0                      0   \n",
       "2              0                0             0                      0   \n",
       "4              0                0             0                      0   \n",
       "5              0                0             0                      0   \n",
       "\n",
       "   Genres_Trivia  Genres_Video Players & Editors  Genres_Weather  Genres_Word  \n",
       "0              0                               0               0            0  \n",
       "1              0                               0               0            0  \n",
       "2              0                               0               0            0  \n",
       "4              0                               0               0            0  \n",
       "5              0                               0               0            0  \n",
       "\n",
       "[5 rows x 91 columns]"
      ]
     },
     "execution_count": 85,
     "metadata": {},
     "output_type": "execute_result"
    }
   ],
   "source": [
    "inp2.head()"
   ]
  },
  {
   "cell_type": "code",
   "execution_count": 86,
   "id": "6a0421bd",
   "metadata": {},
   "outputs": [
    {
     "data": {
      "text/plain": [
       "(8496, 91)"
      ]
     },
     "execution_count": 86,
     "metadata": {},
     "output_type": "execute_result"
    }
   ],
   "source": [
    "inp2.shape"
   ]
  },
  {
   "cell_type": "code",
   "execution_count": 87,
   "id": "85a911af",
   "metadata": {},
   "outputs": [
    {
     "data": {
      "text/plain": [
       "array(['Everyone', 'Teen', 'Everyone 10+', 'Mature 17+',\n",
       "       'Adults only 18+', 'Unrated'], dtype=object)"
      ]
     },
     "execution_count": 87,
     "metadata": {},
     "output_type": "execute_result"
    }
   ],
   "source": [
    "### Dummy EnCoding on Column \"Content Rating\n",
    "#get unique values in Column \"Content Rating\"\n",
    "inp2[\"Content Rating\"].unique()"
   ]
  },
  {
   "cell_type": "code",
   "execution_count": 88,
   "id": "92e3a716",
   "metadata": {},
   "outputs": [
    {
     "data": {
      "text/html": [
       "<div>\n",
       "<style scoped>\n",
       "    .dataframe tbody tr th:only-of-type {\n",
       "        vertical-align: middle;\n",
       "    }\n",
       "\n",
       "    .dataframe tbody tr th {\n",
       "        vertical-align: top;\n",
       "    }\n",
       "\n",
       "    .dataframe thead th {\n",
       "        text-align: right;\n",
       "    }\n",
       "</style>\n",
       "<table border=\"1\" class=\"dataframe\">\n",
       "  <thead>\n",
       "    <tr style=\"text-align: right;\">\n",
       "      <th></th>\n",
       "      <th>Rating</th>\n",
       "      <th>Reviews</th>\n",
       "      <th>Size</th>\n",
       "      <th>Installs</th>\n",
       "      <th>Price</th>\n",
       "      <th>Category_ART_AND_DESIGN</th>\n",
       "      <th>Category_AUTO_AND_VEHICLES</th>\n",
       "      <th>Category_BEAUTY</th>\n",
       "      <th>Category_BOOKS_AND_REFERENCE</th>\n",
       "      <th>Category_BUSINESS</th>\n",
       "      <th>...</th>\n",
       "      <th>Genres_Trivia</th>\n",
       "      <th>Genres_Video Players &amp; Editors</th>\n",
       "      <th>Genres_Weather</th>\n",
       "      <th>Genres_Word</th>\n",
       "      <th>Content Rating_Adults only 18+</th>\n",
       "      <th>Content Rating_Everyone</th>\n",
       "      <th>Content Rating_Everyone 10+</th>\n",
       "      <th>Content Rating_Mature 17+</th>\n",
       "      <th>Content Rating_Teen</th>\n",
       "      <th>Content Rating_Unrated</th>\n",
       "    </tr>\n",
       "  </thead>\n",
       "  <tbody>\n",
       "    <tr>\n",
       "      <th>0</th>\n",
       "      <td>4.1</td>\n",
       "      <td>5.075174</td>\n",
       "      <td>19000.0</td>\n",
       "      <td>10000</td>\n",
       "      <td>0</td>\n",
       "      <td>1</td>\n",
       "      <td>0</td>\n",
       "      <td>0</td>\n",
       "      <td>0</td>\n",
       "      <td>0</td>\n",
       "      <td>...</td>\n",
       "      <td>0</td>\n",
       "      <td>0</td>\n",
       "      <td>0</td>\n",
       "      <td>0</td>\n",
       "      <td>0</td>\n",
       "      <td>1</td>\n",
       "      <td>0</td>\n",
       "      <td>0</td>\n",
       "      <td>0</td>\n",
       "      <td>0</td>\n",
       "    </tr>\n",
       "    <tr>\n",
       "      <th>1</th>\n",
       "      <td>3.9</td>\n",
       "      <td>6.875232</td>\n",
       "      <td>14000.0</td>\n",
       "      <td>500000</td>\n",
       "      <td>0</td>\n",
       "      <td>1</td>\n",
       "      <td>0</td>\n",
       "      <td>0</td>\n",
       "      <td>0</td>\n",
       "      <td>0</td>\n",
       "      <td>...</td>\n",
       "      <td>0</td>\n",
       "      <td>0</td>\n",
       "      <td>0</td>\n",
       "      <td>0</td>\n",
       "      <td>0</td>\n",
       "      <td>1</td>\n",
       "      <td>0</td>\n",
       "      <td>0</td>\n",
       "      <td>0</td>\n",
       "      <td>0</td>\n",
       "    </tr>\n",
       "    <tr>\n",
       "      <th>2</th>\n",
       "      <td>4.7</td>\n",
       "      <td>11.379520</td>\n",
       "      <td>8700.0</td>\n",
       "      <td>5000000</td>\n",
       "      <td>0</td>\n",
       "      <td>1</td>\n",
       "      <td>0</td>\n",
       "      <td>0</td>\n",
       "      <td>0</td>\n",
       "      <td>0</td>\n",
       "      <td>...</td>\n",
       "      <td>0</td>\n",
       "      <td>0</td>\n",
       "      <td>0</td>\n",
       "      <td>0</td>\n",
       "      <td>0</td>\n",
       "      <td>1</td>\n",
       "      <td>0</td>\n",
       "      <td>0</td>\n",
       "      <td>0</td>\n",
       "      <td>0</td>\n",
       "    </tr>\n",
       "    <tr>\n",
       "      <th>4</th>\n",
       "      <td>4.3</td>\n",
       "      <td>6.875232</td>\n",
       "      <td>2800.0</td>\n",
       "      <td>100000</td>\n",
       "      <td>0</td>\n",
       "      <td>1</td>\n",
       "      <td>0</td>\n",
       "      <td>0</td>\n",
       "      <td>0</td>\n",
       "      <td>0</td>\n",
       "      <td>...</td>\n",
       "      <td>0</td>\n",
       "      <td>0</td>\n",
       "      <td>0</td>\n",
       "      <td>0</td>\n",
       "      <td>0</td>\n",
       "      <td>1</td>\n",
       "      <td>0</td>\n",
       "      <td>0</td>\n",
       "      <td>0</td>\n",
       "      <td>0</td>\n",
       "    </tr>\n",
       "    <tr>\n",
       "      <th>5</th>\n",
       "      <td>4.4</td>\n",
       "      <td>5.123964</td>\n",
       "      <td>5600.0</td>\n",
       "      <td>50000</td>\n",
       "      <td>0</td>\n",
       "      <td>1</td>\n",
       "      <td>0</td>\n",
       "      <td>0</td>\n",
       "      <td>0</td>\n",
       "      <td>0</td>\n",
       "      <td>...</td>\n",
       "      <td>0</td>\n",
       "      <td>0</td>\n",
       "      <td>0</td>\n",
       "      <td>0</td>\n",
       "      <td>0</td>\n",
       "      <td>1</td>\n",
       "      <td>0</td>\n",
       "      <td>0</td>\n",
       "      <td>0</td>\n",
       "      <td>0</td>\n",
       "    </tr>\n",
       "  </tbody>\n",
       "</table>\n",
       "<p>5 rows × 96 columns</p>\n",
       "</div>"
      ],
      "text/plain": [
       "   Rating    Reviews     Size  Installs  Price  Category_ART_AND_DESIGN  \\\n",
       "0     4.1   5.075174  19000.0     10000      0                        1   \n",
       "1     3.9   6.875232  14000.0    500000      0                        1   \n",
       "2     4.7  11.379520   8700.0   5000000      0                        1   \n",
       "4     4.3   6.875232   2800.0    100000      0                        1   \n",
       "5     4.4   5.123964   5600.0     50000      0                        1   \n",
       "\n",
       "   Category_AUTO_AND_VEHICLES  Category_BEAUTY  Category_BOOKS_AND_REFERENCE  \\\n",
       "0                           0                0                             0   \n",
       "1                           0                0                             0   \n",
       "2                           0                0                             0   \n",
       "4                           0                0                             0   \n",
       "5                           0                0                             0   \n",
       "\n",
       "   Category_BUSINESS  ...  Genres_Trivia  Genres_Video Players & Editors  \\\n",
       "0                  0  ...              0                               0   \n",
       "1                  0  ...              0                               0   \n",
       "2                  0  ...              0                               0   \n",
       "4                  0  ...              0                               0   \n",
       "5                  0  ...              0                               0   \n",
       "\n",
       "   Genres_Weather  Genres_Word  Content Rating_Adults only 18+  \\\n",
       "0               0            0                               0   \n",
       "1               0            0                               0   \n",
       "2               0            0                               0   \n",
       "4               0            0                               0   \n",
       "5               0            0                               0   \n",
       "\n",
       "   Content Rating_Everyone  Content Rating_Everyone 10+  \\\n",
       "0                        1                            0   \n",
       "1                        1                            0   \n",
       "2                        1                            0   \n",
       "4                        1                            0   \n",
       "5                        1                            0   \n",
       "\n",
       "   Content Rating_Mature 17+  Content Rating_Teen  Content Rating_Unrated  \n",
       "0                          0                    0                       0  \n",
       "1                          0                    0                       0  \n",
       "2                          0                    0                       0  \n",
       "4                          0                    0                       0  \n",
       "5                          0                    0                       0  \n",
       "\n",
       "[5 rows x 96 columns]"
      ]
     },
     "execution_count": 88,
     "metadata": {},
     "output_type": "execute_result"
    }
   ],
   "source": [
    "inp2['Content Rating'] = pd.Categorical(inp2['Content Rating'])\n",
    "\n",
    "x = inp2[['Content Rating']]\n",
    "del inp2['Content Rating']\n",
    "\n",
    "dummies = pd.get_dummies(x, prefix = 'Content Rating')\n",
    "inp2 = pd.concat([inp2,dummies], axis=1)\n",
    "inp2.head()"
   ]
  },
  {
   "cell_type": "markdown",
   "id": "f1f7b6cd",
   "metadata": {},
   "source": [
    "### 9. Train test split  and apply 70-30 split. Name the new dataframes df_train and df_test.\n",
    "\n",
    "### 10. Separate the dataframes into X_train, y_train, X_test, and y_test."
   ]
  },
  {
   "cell_type": "code",
   "execution_count": 89,
   "id": "b00a8b8f",
   "metadata": {},
   "outputs": [],
   "source": [
    "from sklearn.model_selection import train_test_split as tts\n",
    "from sklearn.linear_model import LinearRegression as LR\n",
    "from sklearn.metrics import mean_squared_error as mse"
   ]
  },
  {
   "cell_type": "code",
   "execution_count": 90,
   "id": "040ffe97",
   "metadata": {},
   "outputs": [],
   "source": [
    "d1 = inp2\n",
    "X = d1.drop('Rating',axis=1)\n",
    "y = d1['Rating']\n",
    "\n",
    "Xtrain, Xtest, ytrain, ytest = tts(X,y, test_size=0.3, random_state=5)"
   ]
  },
  {
   "cell_type": "markdown",
   "id": "a130432a",
   "metadata": {},
   "source": [
    "### 11 . Model building\n",
    "\n",
    "### Use linear regression as the technique\n",
    "\n",
    "### Report the R2 on the train set"
   ]
  },
  {
   "cell_type": "code",
   "execution_count": 91,
   "id": "1c95c9bf",
   "metadata": {},
   "outputs": [
    {
     "data": {
      "text/plain": [
       "LinearRegression()"
      ]
     },
     "execution_count": 91,
     "metadata": {},
     "output_type": "execute_result"
    }
   ],
   "source": [
    "reg_all = LR()\n",
    "reg_all.fit(Xtrain,ytrain)"
   ]
  },
  {
   "cell_type": "code",
   "execution_count": 92,
   "id": "6686c37d",
   "metadata": {},
   "outputs": [
    {
     "name": "stdout",
     "output_type": "stream",
     "text": [
      "The R2 value of the Training Set is : 0.074\n"
     ]
    }
   ],
   "source": [
    "R2_train = round(reg_all.score(Xtrain,ytrain),3)\n",
    "print(\"The R2 value of the Training Set is : {}\".format(R2_train))"
   ]
  },
  {
   "cell_type": "markdown",
   "id": "207fb562",
   "metadata": {},
   "source": [
    "### 12. Make predictions on test set and report R2."
   ]
  },
  {
   "cell_type": "code",
   "execution_count": 93,
   "id": "d4e10a8c",
   "metadata": {},
   "outputs": [
    {
     "name": "stdout",
     "output_type": "stream",
     "text": [
      "The R2 value of the Testing Set is : 0.063\n"
     ]
    }
   ],
   "source": [
    "R2_test = round(reg_all.score(Xtest,ytest),3)\n",
    "print(\"The R2 value of the Testing Set is : {}\".format(R2_test))"
   ]
  },
  {
   "cell_type": "code",
   "execution_count": null,
   "id": "576e9715",
   "metadata": {},
   "outputs": [],
   "source": []
  }
 ],
 "metadata": {
  "kernelspec": {
   "display_name": "Python 3 (ipykernel)",
   "language": "python",
   "name": "python3"
  },
  "language_info": {
   "codemirror_mode": {
    "name": "ipython",
    "version": 3
   },
   "file_extension": ".py",
   "mimetype": "text/x-python",
   "name": "python",
   "nbconvert_exporter": "python",
   "pygments_lexer": "ipython3",
   "version": "3.9.13"
  }
 },
 "nbformat": 4,
 "nbformat_minor": 5
}
